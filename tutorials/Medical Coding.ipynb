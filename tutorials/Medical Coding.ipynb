{
 "cells": [
  {
   "cell_type": "markdown",
   "id": "7f0e4142",
   "metadata": {
    "id": "7f0e4142"
   },
   "source": [
    "# API Tutorial - Medical Coding"
   ]
  },
  {
   "cell_type": "markdown",
   "id": "91c2598e",
   "metadata": {
    "id": "91c2598e"
   },
   "source": [
    "## Short Description\n",
    "This comprehensive pipeline is designed to efficiently identify and extract Medical Codes from text documents using advanced NLP techniques such as Named Entity Recognition (NER) and Sentence Embeddings. NER identifies medical lab test entities, while sentence embeddings capture the semantic context, ensuring accurate code extraction. This solution automates the extraction process, improving workflow efficiency in lab test documentation, billing, research, and healthcare management.\n",
    "\n",
    "\n",
    "## Tutorial\n",
    "This tutorial will guide you through using the Medical Coding API. By following the steps below, you'll be able to identify and extract medical codes using the API. The main steps involved are:\n",
    "\n",
    "1. Creating an access token\n",
    "2. Installing the aimped library\n",
    "3. Running the API with your credentials and payload"
   ]
  },
  {
   "cell_type": "markdown",
   "id": "feacafef",
   "metadata": {
    "id": "feacafef"
   },
   "source": [
    "## Step 1: Create Access Token"
   ]
  },
  {
   "cell_type": "markdown",
   "id": "925be06a",
   "metadata": {
    "id": "925be06a"
   },
   "source": [
    "To use the API, you need an access token. Follow these steps to create one:\n",
    "\n",
    "1. Go to the [API Access Token Creation Page](https://aimped.ai/a3m/#/tokens). You will land here:\n",
    "![Token Creation Page](images/token_11.png)\n",
    "\n",
    "2. Select scopes and click on \"Create Token\".\n",
    "3. After clicking this button, you will see the pop-up from where you can copy the User Key and User Secret.\n",
    "\n",
    "![Token Creation Page2](images/token_22.png)\n",
    "\n",
    "3. Copy the generated access tokens and keep it safe. You'll need it for the next steps."
   ]
  },
  {
   "cell_type": "markdown",
   "id": "f7da9fe6",
   "metadata": {
    "id": "f7da9fe6"
   },
   "source": [
    "## Step 2: Install aimped Library\n",
    "To interact with the API, you need to install the aimped Python library. Open your terminal or command prompt and run the following command:"
   ]
  },
  {
   "cell_type": "code",
   "execution_count": 1,
   "id": "0570e728",
   "metadata": {
    "id": "0570e728"
   },
   "outputs": [],
   "source": [
    "pip install aimped==0.2.2 pandas"
   ]
  },
  {
   "cell_type": "markdown",
   "id": "1955fccb",
   "metadata": {
    "id": "1955fccb"
   },
   "source": [
    "This command will install the necessary library to communicate with the API."
   ]
  },
  {
   "cell_type": "markdown",
   "id": "613ef48e",
   "metadata": {
    "id": "613ef48e"
   },
   "source": [
    "## Step 3: Run the API\n",
    "Now that you have your access tokens and the library installed, you can run the API to identify medical code from text. Follow these steps:"
   ]
  },
  {
   "cell_type": "markdown",
   "id": "971b24d9",
   "metadata": {
    "id": "971b24d9"
   },
   "source": [
    "### Set up your credentials:"
   ]
  },
  {
   "cell_type": "code",
   "execution_count": 2,
   "id": "18cbf102",
   "metadata": {
    "id": "18cbf102"
   },
   "outputs": [],
   "source": [
    "user_key = \"YOUR_USER_KEY\"\n",
    "user_secret = \"YOUR_USER_SECRET\""
   ]
  },
  {
   "cell_type": "markdown",
   "id": "48cfae5e",
   "metadata": {
    "id": "48cfae5e"
   },
   "source": [
    "### Import the AimpedAPI class and set the base URL and model ID:\n",
    "For other Medical Coding, you just need to change the **Model ID**. The Model ID can be found under \"API Information\" in the \"API Details\" tab on each model card."
   ]
  },
  {
   "cell_type": "code",
   "execution_count": 3,
   "id": "69f48705",
   "metadata": {
    "id": "69f48705"
   },
   "outputs": [],
   "source": [
    "from aimped.services.api import AimpedAPI\n",
    "\n",
    "BASE_URL = 'https://aimped.ai'\n",
    "model_id = \"492\" # the Model ID can be found under \"API Information\" in the \"API Details\" tab on each model card."
   ]
  },
  {
   "cell_type": "markdown",
   "id": "6e62b0d8",
   "metadata": {
    "id": "6e62b0d8"
   },
   "source": [
    "### Initialize the API service:"
   ]
  },
  {
   "cell_type": "code",
   "execution_count": 4,
   "id": "a478ea85",
   "metadata": {
    "id": "a478ea85"
   },
   "outputs": [],
   "source": [
    "api_service = AimpedAPI(user_key, user_secret, {\"base_url\": BASE_URL})"
   ]
  },
  {
   "cell_type": "markdown",
   "id": "5e5ecbd4",
   "metadata": {
    "id": "5e5ecbd4"
   },
   "source": [
    "### Define your payload:\n",
    "Define payload according to your input data type."
   ]
  },
  {
   "cell_type": "markdown",
   "id": "d51ee39b",
   "metadata": {
    "id": "d51ee39b"
   },
   "source": [
    "#### For Text Input"
   ]
  },
  {
   "cell_type": "code",
   "execution_count": 5,
   "id": "00a29471",
   "metadata": {
    "id": "00a29471"
   },
   "outputs": [],
   "source": [
    "text = \"A 65-year-old woman presents to the office with generalized fatigue for the last 4 months. She used to walk 1 mile each evening but now gets tired after 1-2 blocks. She has a history of Crohn disease and hypertension for which she receives appropriate medications. She is married and lives with her husband. She eats a balanced diet that includes chicken, fish, pork, fruits, and vegetables. She rarely drinks alcohol and denies tobacco use. Vital signs are within normal limits. A physical examination is unremarkable. Laboratory studies show the following: Hemoglobin: 9.8g/dL, Hematocrit: 32%, Mean Corpuscular Volume: 110 μm3.\"\n",
    "\n",
    "payload = {\n",
    "  \"data_type\": \"data_json\",\n",
    "  \"data_json\": {\n",
    "    \"text\": [text],\n",
    "    \"entity\": [\n",
    "      \"All LOINC Codes\" # \"all ICD-10 CM codes and descriptions\", \"2023 RxNorm Codes\"\n",
    "    ]\n",
    "  }\n",
    "}"
   ]
  },
  {
   "cell_type": "markdown",
   "id": "4fed1a64",
   "metadata": {
    "id": "4fed1a64"
   },
   "source": [
    "#### For File Input"
   ]
  },
  {
   "cell_type": "code",
   "execution_count": 6,
   "id": "2b24d35d",
   "metadata": {
    "id": "2b24d35d"
   },
   "outputs": [],
   "source": [
    "path_uri_obj = api_service.file_upload(\n",
    "    model_id,\n",
    "    '/Users/John/Downloads/sample.txt'  # sample file path to upload\n",
    "    )\n",
    "path_uri = path_uri_obj['url']\n",
    "\n",
    "payload = {\n",
    "  \"data_type\": \"data_txt\",\n",
    "  \"extra_fields\": {\n",
    "    \"entity\": [\n",
    "      \"All LOINC Codes\" # \"all ICD-10 CM codes and descriptions\", \"2023 RxNorm Codes\"\n",
    "    ]\n",
    "  },\n",
    "  \"data_txt\": [\n",
    "    path_uri\n",
    "  ]\n",
    "}"
   ]
  },
  {
   "cell_type": "markdown",
   "id": "41479694",
   "metadata": {
    "id": "41479694"
   },
   "source": [
    "### Run the model:"
   ]
  },
  {
   "cell_type": "code",
   "execution_count": 7,
   "id": "4b770098",
   "metadata": {
    "id": "4b770098"
   },
   "outputs": [],
   "source": [
    "result = api_service.run_model(model_id, payload)"
   ]
  },
  {
   "cell_type": "markdown",
   "id": "f6fb148b",
   "metadata": {
    "id": "f6fb148b"
   },
   "source": [
    "If you're running this model for the first time or after a long time, you might see the following message:"
   ]
  },
  {
   "cell_type": "code",
   "execution_count": 9,
   "id": "1a0559cf",
   "metadata": {
    "colab": {
     "base_uri": "https://localhost:8080/"
    },
    "id": "1a0559cf",
    "outputId": "0830f670-4e22-4293-c4e0-dade0a6fbc74"
   },
   "outputs": [
    {
     "name": "stdout",
     "output_type": "stream",
     "text": [
      "{'message': 'We will notify you via email when the instance is ready.'}\n"
     ]
    }
   ],
   "source": [
    "print(result)"
   ]
  },
  {
   "cell_type": "markdown",
   "id": "9f100748",
   "metadata": {
    "id": "9f100748"
   },
   "source": [
    "Wait for the email notification indicating that the instance is ready. You will be notified on the [Aimped](https://aimped.ai/) as well.\n",
    "![Notification Page](images/notif_1.png)\n",
    "\n",
    "You will see this notification, once the instance is ready:\n",
    "![Notification Page2](images/m_coding.png)"
   ]
  },
  {
   "cell_type": "markdown",
   "id": "d8de220f",
   "metadata": {
    "id": "d8de220f"
   },
   "source": [
    "Once you receive the email or notification on aimped, run the model again:"
   ]
  },
  {
   "cell_type": "code",
   "execution_count": 10,
   "id": "561a6ce0",
   "metadata": {
    "id": "561a6ce0"
   },
   "outputs": [],
   "source": [
    "result = api_service.run_model(model_id, payload)"
   ]
  },
  {
   "cell_type": "code",
   "execution_count": 12,
   "id": "75e149b5",
   "metadata": {
    "colab": {
     "base_uri": "https://localhost:8080/"
    },
    "id": "75e149b5",
    "outputId": "880725c4-8397-42cd-9c7a-eee985fc8856",
    "scrolled": true
   },
   "outputs": [
    {
     "data": {
      "text/plain": [
       "{'status': True,\n",
       " 'data_type': ['data_json'],\n",
       " 'output': {'data_json': {'result': [[{'chunk': 'Vital signs',\n",
       "      'code': '8716-3',\n",
       "      'description': 'Vital signs',\n",
       "      'all_codes': ['8716-3',\n",
       "       '29274-8',\n",
       "       '80339-5',\n",
       "       '34566-0',\n",
       "       '8867-4',\n",
       "       '67801-1',\n",
       "       '34565-2',\n",
       "       '8310-5',\n",
       "       '89574-8',\n",
       "       '60834-9',\n",
       "       '69001-6',\n",
       "       '75186-7',\n",
       "       '67795-5',\n",
       "       '35094-2',\n",
       "       '18685-8',\n",
       "       '57045-7',\n",
       "       '28139-4',\n",
       "       '8713-0',\n",
       "       '18709-6',\n",
       "       '9855-8'],\n",
       "      'all_descriptions': ['Vital signs',\n",
       "       'Vital signs measurements',\n",
       "       'Vital signs assessment [Interpretation]',\n",
       "       'Vital signs with method details panel',\n",
       "       'Heart rate',\n",
       "       'EMS vital signs Narrative NEMSIS',\n",
       "       'Vital signs, weight and height panel',\n",
       "       'Body temperature',\n",
       "       'Exercise Vital Sign (EVS)',\n",
       "       'Blood temperature',\n",
       "       'Heart rate --standing',\n",
       "       'Vital status [CDC.CS]',\n",
       "       'Vital signs, weight, height, head circumference and oximetry panel HITSP',\n",
       "       'Blood pressure panel',\n",
       "       'First Blood pressure special circumstances',\n",
       "       'Cardiac status',\n",
       "       'Blood pressure alteration [CCC]',\n",
       "       'Physical findings of General status',\n",
       "       'First Heart rate special circumstances',\n",
       "       'Blood pressure special circumstances'],\n",
       "      'begin': 443,\n",
       "      'end': 454,\n",
       "      'entity': 'test'},\n",
       "     {'chunk': 'A physical examination',\n",
       "      'code': '35091-8',\n",
       "      'description': 'Patient physical',\n",
       "      'all_codes': ['35091-8',\n",
       "       '55286-9',\n",
       "       '29544-4',\n",
       "       '22029-3',\n",
       "       '11384-5',\n",
       "       '29545-1',\n",
       "       '32434-3',\n",
       "       '8713-0',\n",
       "       '35089-2',\n",
       "       '61133-5',\n",
       "       '11441-3',\n",
       "       '8657-9',\n",
       "       '32473-1',\n",
       "       '32430-1',\n",
       "       '8703-1',\n",
       "       '11410-8',\n",
       "       '10184-0',\n",
       "       '54562-4',\n",
       "       '79117-8',\n",
       "       '70912-1'],\n",
       "      'all_descriptions': ['Patient physical',\n",
       "       'Physical exam by body areas',\n",
       "       'Physical findings',\n",
       "       'Physical exam Narrative',\n",
       "       'Physical examination by organ systems',\n",
       "       'Physical findings Narrative',\n",
       "       'General appearance',\n",
       "       'Physical findings of General status',\n",
       "       'History and physical panel',\n",
       "       'Clinical impression [TIMP]',\n",
       "       'Physical findings of Musculoskeletal system',\n",
       "       'Hospital discharge physical findings',\n",
       "       'Physical findings sensation',\n",
       "       'Physical findings of Extremity',\n",
       "       'Physical findings of Extremities',\n",
       "       'Physical findings of Musculoskeletal system Narrative',\n",
       "       'Hospital discharge physical findings Narrative',\n",
       "       'Indicators of pain or possible pain',\n",
       "       'Patient examination panel [GPCOG]',\n",
       "       'Additional concerns - physical [FACIT]'],\n",
       "      'begin': 481,\n",
       "      'end': 503,\n",
       "      'entity': 'test'},\n",
       "     {'chunk': 'Laboratory studies',\n",
       "      'code': '26436-6',\n",
       "      'description': 'Laboratory studies (set)',\n",
       "      'all_codes': ['26436-6',\n",
       "       '11502-2',\n",
       "       '56850-1',\n",
       "       '18719-5',\n",
       "       '85069-3',\n",
       "       '22032-7',\n",
       "       '30954-2',\n",
       "       '92237-7',\n",
       "       '28634-4',\n",
       "       '86656-6',\n",
       "       '27899-4',\n",
       "       '92236-9',\n",
       "       '18723-7',\n",
       "       '18725-2',\n",
       "       '59462-2',\n",
       "       '67098-4',\n",
       "       '77202-0',\n",
       "       '26437-4',\n",
       "       '18720-3',\n",
       "       '18727-8'],\n",
       "      'all_descriptions': ['Laboratory studies (set)',\n",
       "       'Laboratory report',\n",
       "       'Interpretation and review of laboratory results',\n",
       "       'Chemistry studies (set)',\n",
       "       'Lab test method [Type]',\n",
       "       'Lab tests Narrative',\n",
       "       'Relevant diagnostic tests/laboratory data Narrative',\n",
       "       'Lab observation sub-type',\n",
       "       'Miscellaneous studies (set)',\n",
       "       'Lab tests - FPAR 2.0 sets',\n",
       "       'Diagnostic studies.non-lab (set)',\n",
       "       'Lab observation result status',\n",
       "       'Hematology studies (set)',\n",
       "       'Microbiology studies (set)',\n",
       "       'Clinical biochemist review of results',\n",
       "       'Reason for test or procedure',\n",
       "       'Laboratory comment [Text] in Report Narrative',\n",
       "       'Chemistry challenge studies (set)',\n",
       "       'Coagulation studies (set)',\n",
       "       'Serology studies (set)'],\n",
       "      'begin': 521,\n",
       "      'end': 539,\n",
       "      'entity': 'test'},\n",
       "     {'chunk': 'Hemoglobin',\n",
       "      'code': '34618-9',\n",
       "      'description': 'Hemoglobin [Presence] in Specimen',\n",
       "      'all_codes': ['34618-9',\n",
       "       '718-7',\n",
       "       '40547-2',\n",
       "       '717-9',\n",
       "       '4588-0',\n",
       "       '33517-4',\n",
       "       '59260-0',\n",
       "       '24360-0',\n",
       "       '30352-9',\n",
       "       '75928-2',\n",
       "       '30313-1',\n",
       "       '25433-4',\n",
       "       '17871-5',\n",
       "       '70209-2',\n",
       "       '98907-9',\n",
       "       '721-1',\n",
       "       '4542-7',\n",
       "       '33509-1',\n",
       "       '40717-1',\n",
       "       '94537-8'],\n",
       "      'all_descriptions': ['Hemoglobin [Presence] in Specimen',\n",
       "       'Hemoglobin [Mass/volume] in Blood',\n",
       "       'Hemoglobin H [Presence] in Blood',\n",
       "       'Hemoglobin [Presence] in Blood',\n",
       "       'Hemoglobin H/Hemoglobin.total in Blood',\n",
       "       'Hemoglobin [Presence] in Body fluid',\n",
       "       'Hemoglobin [Moles/volume] in Blood',\n",
       "       'Hemoglobin and Hematocrit panel - Blood',\n",
       "       'Hemoglobin [Mass/volume] in Capillary blood',\n",
       "       'Hemoglobin [Moles/volume] in Arterial blood',\n",
       "       'Hemoglobin [Mass/volume] in Arterial blood',\n",
       "       'Free Hemoglobin [Moles/volume] in Plasma',\n",
       "       'Hemoglobin H [Presence] in Blood by Heat denaturation',\n",
       "       'Haptoglobin [Moles/volume] in Serum or Plasma',\n",
       "       'Hemoglobinopathy panel',\n",
       "       'Free Hemoglobin [Mass/volume] in Plasma',\n",
       "       'Haptoglobin [Mass/volume] in Serum or Plasma',\n",
       "       'Hemoglobin [Mass/volume] in Body fluid',\n",
       "       'Haptoglobin [Presence] in Serum or Plasma',\n",
       "       'Hemoglobin panel - Blood by HPLC'],\n",
       "      'begin': 560,\n",
       "      'end': 570,\n",
       "      'entity': 'test'},\n",
       "     {'chunk': 'Hematocrit',\n",
       "      'code': '20570-8',\n",
       "      'description': 'Hematocrit [Volume Fraction] of Blood',\n",
       "      'all_codes': ['20570-8',\n",
       "       '51637-7',\n",
       "       '41654-5',\n",
       "       '17809-5',\n",
       "       '30428-7',\n",
       "       '55781-9',\n",
       "       '28540-3',\n",
       "       '26453-1',\n",
       "       '41986-1',\n",
       "       '42908-4',\n",
       "       '59467-1',\n",
       "       '39227-4',\n",
       "       '1322-7',\n",
       "       '32354-3',\n",
       "       '48703-3',\n",
       "       '11153-4',\n",
       "       '94497-5',\n",
       "       '4544-3',\n",
       "       '43416-7',\n",
       "       '790-6'],\n",
       "      'all_descriptions': ['Hematocrit [Volume Fraction] of Blood',\n",
       "       'Plateletcrit [Volume Fraction] in Blood',\n",
       "       'Hematocrit [Volume Fraction] of Venous blood',\n",
       "       'Hematocrit [Volume Fraction] of Urine',\n",
       "       'MCV [Entitic volume]',\n",
       "       'Hematocrit [Volume Fraction] of Bone marrow',\n",
       "       'MCHC [Mass/volume]',\n",
       "       'Erythrocytes [#/volume] in Blood',\n",
       "       'Hematocrit test status/results Set CPHS',\n",
       "       'Hematocrit [Volume Fraction] of Capillary blood',\n",
       "       'MCHC [Moles/volume]',\n",
       "       'Hematocrit test status CPHS',\n",
       "       'Transfusion volume',\n",
       "       'Hematocrit [Volume Fraction] of Arterial blood',\n",
       "       'Hematocrit [Volume Fraction] of Blood by Estimated',\n",
       "       'Hematocrit [Volume Fraction] of Body fluid',\n",
       "       'Packed erythrocytes [Volume] of Specimen',\n",
       "       'Hematocrit [Volume Fraction] of Blood by Automated count',\n",
       "       'Hematocrit [Volume Fraction] of Stem cell product',\n",
       "       'Erythrocytes [#/volume] in Blood by Manual count'],\n",
       "      'begin': 581,\n",
       "      'end': 591,\n",
       "      'entity': 'test'},\n",
       "     {'chunk': 'Mean Corpuscular Volume',\n",
       "      'code': '51641-9',\n",
       "      'description': 'Mean sphered cell volume [Entitic volume] in Red Blood Cells',\n",
       "      'all_codes': ['51641-9',\n",
       "       '48706-6',\n",
       "       '30386-7',\n",
       "       '76141-1',\n",
       "       '30428-7',\n",
       "       '784-9',\n",
       "       '3157-5',\n",
       "       '739-3',\n",
       "       '28540-3',\n",
       "       '28539-5',\n",
       "       '28542-9',\n",
       "       '59467-1',\n",
       "       '30351-1',\n",
       "       '40568-8',\n",
       "       '776-5',\n",
       "       '50875-4',\n",
       "       '30433-7',\n",
       "       '20352-1',\n",
       "       '76683-2',\n",
       "       '743-5'],\n",
       "      'all_descriptions': ['Mean sphered cell volume [Entitic volume] in Red Blood Cells',\n",
       "       'Reticulocyte mean volume [Entitic volume] in Reticulocytes',\n",
       "       'Erythrocyte mean corpuscular diameter [Length]',\n",
       "       'Reticulocyte corpuscular hemoglobin concentration mean [Mass/volume] in Blood',\n",
       "       'MCV [Entitic volume]',\n",
       "       'Erythrocyte mean corpuscular diameter [Length] by Automated count',\n",
       "       'Volume of Blood',\n",
       "       'Metamyelocytes [#/volume] in Blood by Manual count',\n",
       "       'MCHC [Mass/volume]',\n",
       "       'MCH [Entitic mass]',\n",
       "       'Platelet mean volume [Entitic volume] in Blood',\n",
       "       'MCHC [Moles/volume]',\n",
       "       'Hemoglobin [Mass/volume] in Mixed venous blood',\n",
       "       'Metamyelocytes [#/volume] in Body fluid by Manual count',\n",
       "       'Platelet mean volume [Entitic volume] in Blood by Rees-Ecker',\n",
       "       'Manganese [Moles/volume] in Red Blood Cells',\n",
       "       'Metamyelocytes [#/volume] in Blood',\n",
       "       'Circulatory system Mean blood flow velocity by US.doppler',\n",
       "       'Mean platelet component [Mass/volume] in Blood by calculation',\n",
       "       'Monocytes [#/volume] in Blood by Manual count'],\n",
       "      'begin': 598,\n",
       "      'end': 621,\n",
       "      'entity': 'test'}]]}}}"
      ]
     },
     "execution_count": 12,
     "metadata": {},
     "output_type": "execute_result"
    }
   ],
   "source": [
    "result"
   ]
  },
  {
   "cell_type": "code",
   "execution_count": 13,
   "id": "f93744b6",
   "metadata": {
    "id": "f93744b6"
   },
   "outputs": [],
   "source": [
    "chunks = result['output']['data_json']['result'][0]"
   ]
  },
  {
   "cell_type": "code",
   "execution_count": 14,
   "id": "3c17c826",
   "metadata": {
    "id": "3c17c826"
   },
   "outputs": [],
   "source": [
    "import pandas as pd\n",
    "table = pd.DataFrame(chunks, columns=['chunk', 'code'])"
   ]
  },
  {
   "cell_type": "code",
   "execution_count": 15,
   "id": "d10eb77b",
   "metadata": {
    "colab": {
     "base_uri": "https://localhost:8080/",
     "height": 237
    },
    "id": "d10eb77b",
    "outputId": "9cfebd01-add4-4131-e480-b3a9e1483169"
   },
   "outputs": [
    {
     "data": {
      "application/vnd.google.colaboratory.intrinsic+json": {
       "summary": "{\n  \"name\": \"table\",\n  \"rows\": 6,\n  \"fields\": [\n    {\n      \"column\": \"chunk\",\n      \"properties\": {\n        \"dtype\": \"string\",\n        \"num_unique_values\": 6,\n        \"samples\": [\n          \"Vital signs\",\n          \"A physical examination\",\n          \"Mean Corpuscular Volume\"\n        ],\n        \"semantic_type\": \"\",\n        \"description\": \"\"\n      }\n    },\n    {\n      \"column\": \"code\",\n      \"properties\": {\n        \"dtype\": \"string\",\n        \"num_unique_values\": 6,\n        \"samples\": [\n          \"8716-3\",\n          \"35091-8\",\n          \"51641-9\"\n        ],\n        \"semantic_type\": \"\",\n        \"description\": \"\"\n      }\n    }\n  ]\n}",
       "type": "dataframe",
       "variable_name": "table"
      },
      "text/html": [
       "\n",
       "  <div id=\"df-0fa6140d-e56c-44a5-a942-3f11fcab2b7d\" class=\"colab-df-container\">\n",
       "    <div>\n",
       "<style scoped>\n",
       "    .dataframe tbody tr th:only-of-type {\n",
       "        vertical-align: middle;\n",
       "    }\n",
       "\n",
       "    .dataframe tbody tr th {\n",
       "        vertical-align: top;\n",
       "    }\n",
       "\n",
       "    .dataframe thead th {\n",
       "        text-align: right;\n",
       "    }\n",
       "</style>\n",
       "<table border=\"1\" class=\"dataframe\">\n",
       "  <thead>\n",
       "    <tr style=\"text-align: right;\">\n",
       "      <th></th>\n",
       "      <th>chunk</th>\n",
       "      <th>code</th>\n",
       "    </tr>\n",
       "  </thead>\n",
       "  <tbody>\n",
       "    <tr>\n",
       "      <th>0</th>\n",
       "      <td>Vital signs</td>\n",
       "      <td>8716-3</td>\n",
       "    </tr>\n",
       "    <tr>\n",
       "      <th>1</th>\n",
       "      <td>A physical examination</td>\n",
       "      <td>35091-8</td>\n",
       "    </tr>\n",
       "    <tr>\n",
       "      <th>2</th>\n",
       "      <td>Laboratory studies</td>\n",
       "      <td>26436-6</td>\n",
       "    </tr>\n",
       "    <tr>\n",
       "      <th>3</th>\n",
       "      <td>Hemoglobin</td>\n",
       "      <td>34618-9</td>\n",
       "    </tr>\n",
       "    <tr>\n",
       "      <th>4</th>\n",
       "      <td>Hematocrit</td>\n",
       "      <td>20570-8</td>\n",
       "    </tr>\n",
       "    <tr>\n",
       "      <th>5</th>\n",
       "      <td>Mean Corpuscular Volume</td>\n",
       "      <td>51641-9</td>\n",
       "    </tr>\n",
       "  </tbody>\n",
       "</table>\n",
       "</div>\n",
       "    <div class=\"colab-df-buttons\">\n",
       "\n",
       "  <div class=\"colab-df-container\">\n",
       "    <button class=\"colab-df-convert\" onclick=\"convertToInteractive('df-0fa6140d-e56c-44a5-a942-3f11fcab2b7d')\"\n",
       "            title=\"Convert this dataframe to an interactive table.\"\n",
       "            style=\"display:none;\">\n",
       "\n",
       "  <svg xmlns=\"http://www.w3.org/2000/svg\" height=\"24px\" viewBox=\"0 -960 960 960\">\n",
       "    <path d=\"M120-120v-720h720v720H120Zm60-500h600v-160H180v160Zm220 220h160v-160H400v160Zm0 220h160v-160H400v160ZM180-400h160v-160H180v160Zm440 0h160v-160H620v160ZM180-180h160v-160H180v160Zm440 0h160v-160H620v160Z\"/>\n",
       "  </svg>\n",
       "    </button>\n",
       "\n",
       "  <style>\n",
       "    .colab-df-container {\n",
       "      display:flex;\n",
       "      gap: 12px;\n",
       "    }\n",
       "\n",
       "    .colab-df-convert {\n",
       "      background-color: #E8F0FE;\n",
       "      border: none;\n",
       "      border-radius: 50%;\n",
       "      cursor: pointer;\n",
       "      display: none;\n",
       "      fill: #1967D2;\n",
       "      height: 32px;\n",
       "      padding: 0 0 0 0;\n",
       "      width: 32px;\n",
       "    }\n",
       "\n",
       "    .colab-df-convert:hover {\n",
       "      background-color: #E2EBFA;\n",
       "      box-shadow: 0px 1px 2px rgba(60, 64, 67, 0.3), 0px 1px 3px 1px rgba(60, 64, 67, 0.15);\n",
       "      fill: #174EA6;\n",
       "    }\n",
       "\n",
       "    .colab-df-buttons div {\n",
       "      margin-bottom: 4px;\n",
       "    }\n",
       "\n",
       "    [theme=dark] .colab-df-convert {\n",
       "      background-color: #3B4455;\n",
       "      fill: #D2E3FC;\n",
       "    }\n",
       "\n",
       "    [theme=dark] .colab-df-convert:hover {\n",
       "      background-color: #434B5C;\n",
       "      box-shadow: 0px 1px 3px 1px rgba(0, 0, 0, 0.15);\n",
       "      filter: drop-shadow(0px 1px 2px rgba(0, 0, 0, 0.3));\n",
       "      fill: #FFFFFF;\n",
       "    }\n",
       "  </style>\n",
       "\n",
       "    <script>\n",
       "      const buttonEl =\n",
       "        document.querySelector('#df-0fa6140d-e56c-44a5-a942-3f11fcab2b7d button.colab-df-convert');\n",
       "      buttonEl.style.display =\n",
       "        google.colab.kernel.accessAllowed ? 'block' : 'none';\n",
       "\n",
       "      async function convertToInteractive(key) {\n",
       "        const element = document.querySelector('#df-0fa6140d-e56c-44a5-a942-3f11fcab2b7d');\n",
       "        const dataTable =\n",
       "          await google.colab.kernel.invokeFunction('convertToInteractive',\n",
       "                                                    [key], {});\n",
       "        if (!dataTable) return;\n",
       "\n",
       "        const docLinkHtml = 'Like what you see? Visit the ' +\n",
       "          '<a target=\"_blank\" href=https://colab.research.google.com/notebooks/data_table.ipynb>data table notebook</a>'\n",
       "          + ' to learn more about interactive tables.';\n",
       "        element.innerHTML = '';\n",
       "        dataTable['output_type'] = 'display_data';\n",
       "        await google.colab.output.renderOutput(dataTable, element);\n",
       "        const docLink = document.createElement('div');\n",
       "        docLink.innerHTML = docLinkHtml;\n",
       "        element.appendChild(docLink);\n",
       "      }\n",
       "    </script>\n",
       "  </div>\n",
       "\n",
       "\n",
       "<div id=\"df-a2299e53-0524-4151-8dd7-8fb8858dbc77\">\n",
       "  <button class=\"colab-df-quickchart\" onclick=\"quickchart('df-a2299e53-0524-4151-8dd7-8fb8858dbc77')\"\n",
       "            title=\"Suggest charts\"\n",
       "            style=\"display:none;\">\n",
       "\n",
       "<svg xmlns=\"http://www.w3.org/2000/svg\" height=\"24px\"viewBox=\"0 0 24 24\"\n",
       "     width=\"24px\">\n",
       "    <g>\n",
       "        <path d=\"M19 3H5c-1.1 0-2 .9-2 2v14c0 1.1.9 2 2 2h14c1.1 0 2-.9 2-2V5c0-1.1-.9-2-2-2zM9 17H7v-7h2v7zm4 0h-2V7h2v10zm4 0h-2v-4h2v4z\"/>\n",
       "    </g>\n",
       "</svg>\n",
       "  </button>\n",
       "\n",
       "<style>\n",
       "  .colab-df-quickchart {\n",
       "      --bg-color: #E8F0FE;\n",
       "      --fill-color: #1967D2;\n",
       "      --hover-bg-color: #E2EBFA;\n",
       "      --hover-fill-color: #174EA6;\n",
       "      --disabled-fill-color: #AAA;\n",
       "      --disabled-bg-color: #DDD;\n",
       "  }\n",
       "\n",
       "  [theme=dark] .colab-df-quickchart {\n",
       "      --bg-color: #3B4455;\n",
       "      --fill-color: #D2E3FC;\n",
       "      --hover-bg-color: #434B5C;\n",
       "      --hover-fill-color: #FFFFFF;\n",
       "      --disabled-bg-color: #3B4455;\n",
       "      --disabled-fill-color: #666;\n",
       "  }\n",
       "\n",
       "  .colab-df-quickchart {\n",
       "    background-color: var(--bg-color);\n",
       "    border: none;\n",
       "    border-radius: 50%;\n",
       "    cursor: pointer;\n",
       "    display: none;\n",
       "    fill: var(--fill-color);\n",
       "    height: 32px;\n",
       "    padding: 0;\n",
       "    width: 32px;\n",
       "  }\n",
       "\n",
       "  .colab-df-quickchart:hover {\n",
       "    background-color: var(--hover-bg-color);\n",
       "    box-shadow: 0 1px 2px rgba(60, 64, 67, 0.3), 0 1px 3px 1px rgba(60, 64, 67, 0.15);\n",
       "    fill: var(--button-hover-fill-color);\n",
       "  }\n",
       "\n",
       "  .colab-df-quickchart-complete:disabled,\n",
       "  .colab-df-quickchart-complete:disabled:hover {\n",
       "    background-color: var(--disabled-bg-color);\n",
       "    fill: var(--disabled-fill-color);\n",
       "    box-shadow: none;\n",
       "  }\n",
       "\n",
       "  .colab-df-spinner {\n",
       "    border: 2px solid var(--fill-color);\n",
       "    border-color: transparent;\n",
       "    border-bottom-color: var(--fill-color);\n",
       "    animation:\n",
       "      spin 1s steps(1) infinite;\n",
       "  }\n",
       "\n",
       "  @keyframes spin {\n",
       "    0% {\n",
       "      border-color: transparent;\n",
       "      border-bottom-color: var(--fill-color);\n",
       "      border-left-color: var(--fill-color);\n",
       "    }\n",
       "    20% {\n",
       "      border-color: transparent;\n",
       "      border-left-color: var(--fill-color);\n",
       "      border-top-color: var(--fill-color);\n",
       "    }\n",
       "    30% {\n",
       "      border-color: transparent;\n",
       "      border-left-color: var(--fill-color);\n",
       "      border-top-color: var(--fill-color);\n",
       "      border-right-color: var(--fill-color);\n",
       "    }\n",
       "    40% {\n",
       "      border-color: transparent;\n",
       "      border-right-color: var(--fill-color);\n",
       "      border-top-color: var(--fill-color);\n",
       "    }\n",
       "    60% {\n",
       "      border-color: transparent;\n",
       "      border-right-color: var(--fill-color);\n",
       "    }\n",
       "    80% {\n",
       "      border-color: transparent;\n",
       "      border-right-color: var(--fill-color);\n",
       "      border-bottom-color: var(--fill-color);\n",
       "    }\n",
       "    90% {\n",
       "      border-color: transparent;\n",
       "      border-bottom-color: var(--fill-color);\n",
       "    }\n",
       "  }\n",
       "</style>\n",
       "\n",
       "  <script>\n",
       "    async function quickchart(key) {\n",
       "      const quickchartButtonEl =\n",
       "        document.querySelector('#' + key + ' button');\n",
       "      quickchartButtonEl.disabled = true;  // To prevent multiple clicks.\n",
       "      quickchartButtonEl.classList.add('colab-df-spinner');\n",
       "      try {\n",
       "        const charts = await google.colab.kernel.invokeFunction(\n",
       "            'suggestCharts', [key], {});\n",
       "      } catch (error) {\n",
       "        console.error('Error during call to suggestCharts:', error);\n",
       "      }\n",
       "      quickchartButtonEl.classList.remove('colab-df-spinner');\n",
       "      quickchartButtonEl.classList.add('colab-df-quickchart-complete');\n",
       "    }\n",
       "    (() => {\n",
       "      let quickchartButtonEl =\n",
       "        document.querySelector('#df-a2299e53-0524-4151-8dd7-8fb8858dbc77 button');\n",
       "      quickchartButtonEl.style.display =\n",
       "        google.colab.kernel.accessAllowed ? 'block' : 'none';\n",
       "    })();\n",
       "  </script>\n",
       "</div>\n",
       "\n",
       "  <div id=\"id_5bd84b94-aee6-4fcf-a3d6-876a89b60186\">\n",
       "    <style>\n",
       "      .colab-df-generate {\n",
       "        background-color: #E8F0FE;\n",
       "        border: none;\n",
       "        border-radius: 50%;\n",
       "        cursor: pointer;\n",
       "        display: none;\n",
       "        fill: #1967D2;\n",
       "        height: 32px;\n",
       "        padding: 0 0 0 0;\n",
       "        width: 32px;\n",
       "      }\n",
       "\n",
       "      .colab-df-generate:hover {\n",
       "        background-color: #E2EBFA;\n",
       "        box-shadow: 0px 1px 2px rgba(60, 64, 67, 0.3), 0px 1px 3px 1px rgba(60, 64, 67, 0.15);\n",
       "        fill: #174EA6;\n",
       "      }\n",
       "\n",
       "      [theme=dark] .colab-df-generate {\n",
       "        background-color: #3B4455;\n",
       "        fill: #D2E3FC;\n",
       "      }\n",
       "\n",
       "      [theme=dark] .colab-df-generate:hover {\n",
       "        background-color: #434B5C;\n",
       "        box-shadow: 0px 1px 3px 1px rgba(0, 0, 0, 0.15);\n",
       "        filter: drop-shadow(0px 1px 2px rgba(0, 0, 0, 0.3));\n",
       "        fill: #FFFFFF;\n",
       "      }\n",
       "    </style>\n",
       "    <button class=\"colab-df-generate\" onclick=\"generateWithVariable('table')\"\n",
       "            title=\"Generate code using this dataframe.\"\n",
       "            style=\"display:none;\">\n",
       "\n",
       "  <svg xmlns=\"http://www.w3.org/2000/svg\" height=\"24px\"viewBox=\"0 0 24 24\"\n",
       "       width=\"24px\">\n",
       "    <path d=\"M7,19H8.4L18.45,9,17,7.55,7,17.6ZM5,21V16.75L18.45,3.32a2,2,0,0,1,2.83,0l1.4,1.43a1.91,1.91,0,0,1,.58,1.4,1.91,1.91,0,0,1-.58,1.4L9.25,21ZM18.45,9,17,7.55Zm-12,3A5.31,5.31,0,0,0,4.9,8.1,5.31,5.31,0,0,0,1,6.5,5.31,5.31,0,0,0,4.9,4.9,5.31,5.31,0,0,0,6.5,1,5.31,5.31,0,0,0,8.1,4.9,5.31,5.31,0,0,0,12,6.5,5.46,5.46,0,0,0,6.5,12Z\"/>\n",
       "  </svg>\n",
       "    </button>\n",
       "    <script>\n",
       "      (() => {\n",
       "      const buttonEl =\n",
       "        document.querySelector('#id_5bd84b94-aee6-4fcf-a3d6-876a89b60186 button.colab-df-generate');\n",
       "      buttonEl.style.display =\n",
       "        google.colab.kernel.accessAllowed ? 'block' : 'none';\n",
       "\n",
       "      buttonEl.onclick = () => {\n",
       "        google.colab.notebook.generateWithVariable('table');\n",
       "      }\n",
       "      })();\n",
       "    </script>\n",
       "  </div>\n",
       "\n",
       "    </div>\n",
       "  </div>\n"
      ],
      "text/plain": [
       "                     chunk     code\n",
       "0              Vital signs   8716-3\n",
       "1   A physical examination  35091-8\n",
       "2       Laboratory studies  26436-6\n",
       "3               Hemoglobin  34618-9\n",
       "4               Hematocrit  20570-8\n",
       "5  Mean Corpuscular Volume  51641-9"
      ]
     },
     "execution_count": 15,
     "metadata": {},
     "output_type": "execute_result"
    }
   ],
   "source": [
    "table"
   ]
  },
  {
   "cell_type": "markdown",
   "id": "864b1d77-5c72-4fc3-ba72-35cffccc0e64",
   "metadata": {
    "id": "864b1d77-5c72-4fc3-ba72-35cffccc0e64"
   },
   "source": [
    "### Visualizing the results"
   ]
  },
  {
   "cell_type": "code",
   "execution_count": 20,
   "id": "1b5a5ecc-415a-4581-849a-035dd7adc9b7",
   "metadata": {
    "id": "1b5a5ecc-415a-4581-849a-035dd7adc9b7"
   },
   "outputs": [],
   "source": [
    "!pip install -qqq seqeval torch"
   ]
  },
  {
   "cell_type": "code",
   "execution_count": 21,
   "id": "yutdQkauEE0B",
   "metadata": {
    "id": "yutdQkauEE0B"
   },
   "outputs": [],
   "source": [
    "from aimped.nlp.medical_coding import MedicalCodingVisualizer\n",
    "visualizer = MedicalCodingVisualizer()"
   ]
  },
  {
   "cell_type": "code",
   "execution_count": 24,
   "id": "kBchhqsiEx9R",
   "metadata": {
    "id": "kBchhqsiEx9R"
   },
   "outputs": [],
   "source": [
    "data = result['output']['data_json']['result'][0]"
   ]
  },
  {
   "cell_type": "code",
   "execution_count": 25,
   "id": "uevKCaL9EM8P",
   "metadata": {
    "colab": {
     "base_uri": "https://localhost:8080/",
     "height": 390
    },
    "id": "uevKCaL9EM8P",
    "outputId": "4c1d6b1f-6657-4e79-e630-ea80b3a48923"
   },
   "outputs": [
    {
     "data": {
      "text/html": [
       "\n",
       "        <style>\n",
       "        .non-ner {\n",
       "            color: black;\n",
       "            line-height: 3.4rem;\n",
       "            font-size: 1rem;\n",
       "        }\n",
       "        .entity-wrapper-outer {\n",
       "            display: inline-grid;\n",
       "            text-align: center;\n",
       "            border-radius: 4px;\n",
       "            margin: 5px 2px;\n",
       "            border: 1px solid;\n",
       "            font-size: 1rem;\n",
       "        }\n",
       "        .entity-wrapper {\n",
       "            display: inline-flex;\n",
       "            text-align: center;\n",
       "            justify-content: space-between;\n",
       "            font-size: 1rem;\n",
       "        }\n",
       "        .entity-name {\n",
       "            font-size: 0.9rem;\n",
       "            line-height: 1.5rem;\n",
       "            text-align: center;\n",
       "            font-weight: 400;\n",
       "            padding: 2px 5px;\n",
       "            display: inline-block;\n",
       "        }\n",
       "        .entity-type, .entity-type-assertion {\n",
       "            font-size: 0.9rem;\n",
       "            line-height: 1.5rem;\n",
       "            color: #fff;\n",
       "            text-transform: uppercase;\n",
       "            font-weight: 500;\n",
       "            display: inline-block;\n",
       "            padding: 3px 5px;\n",
       "        }\n",
       "        </style>\n",
       "        <div style=\"padding: 14px;\"><div dir=\"auto\"><span class=\"non-ner\">A 65-year-old woman presents to the office with generalized fatigue for the last 4 months. She used to walk 1 mile each evening but now gets tired after 1-2 blocks. She has a history of Crohn disease and hypertension for which she receives appropriate medications. She is married and lives with her husband. She eats a balanced diet that includes chicken, fish, pork, fruits, and vegetables. She rarely drinks alcohol and denies tobacco use. V</span>\n",
       "                <span class=\"entity-wrapper-outer\" style=\"border-color: #5C5CE0;\">\n",
       "                    <span class=\"entity-wrapper\" style=\"background-color: rgba(92, 92, 224, 0.12);\">\n",
       "                        <span class=\"entity-type\" style=\"background-color: #5C5CE0;\">8716-3</span>\n",
       "                        <span class=\"entity-name\">Vital signs</span>\n",
       "                        <span class=\"entity-type\" style=\"background-color: #5C5CE0;\">test</span>\n",
       "                    </span>\n",
       "                    <span class=\"entity-type-assertion\" style=\"background-color: #268E6C;\">Vital signs</span>\n",
       "                </span>\n",
       "            <span class=\"non-ner\">are within normal limits. A</span>\n",
       "                <span class=\"entity-wrapper-outer\" style=\"border-color: #5C5CE0;\">\n",
       "                    <span class=\"entity-wrapper\" style=\"background-color: rgba(92, 92, 224, 0.12);\">\n",
       "                        <span class=\"entity-type\" style=\"background-color: #5C5CE0;\">35091-8</span>\n",
       "                        <span class=\"entity-name\">A physical examination</span>\n",
       "                        <span class=\"entity-type\" style=\"background-color: #5C5CE0;\">test</span>\n",
       "                    </span>\n",
       "                    <span class=\"entity-type-assertion\" style=\"background-color: #DA7B11;\">Patient physical</span>\n",
       "                </span>\n",
       "            <span class=\"non-ner\">is unremarkable. L</span>\n",
       "                <span class=\"entity-wrapper-outer\" style=\"border-color: #5C5CE0;\">\n",
       "                    <span class=\"entity-wrapper\" style=\"background-color: rgba(92, 92, 224, 0.12);\">\n",
       "                        <span class=\"entity-type\" style=\"background-color: #5C5CE0;\">26436-6</span>\n",
       "                        <span class=\"entity-name\">Laboratory studies</span>\n",
       "                        <span class=\"entity-type\" style=\"background-color: #5C5CE0;\">test</span>\n",
       "                    </span>\n",
       "                    <span class=\"entity-type-assertion\" style=\"background-color: #D7373F;\">Laboratory studies (set)</span>\n",
       "                </span>\n",
       "            <span class=\"non-ner\">show the following: H</span>\n",
       "                <span class=\"entity-wrapper-outer\" style=\"border-color: #5C5CE0;\">\n",
       "                    <span class=\"entity-wrapper\" style=\"background-color: rgba(92, 92, 224, 0.12);\">\n",
       "                        <span class=\"entity-type\" style=\"background-color: #5C5CE0;\">34618-9</span>\n",
       "                        <span class=\"entity-name\">Hemoglobin</span>\n",
       "                        <span class=\"entity-type\" style=\"background-color: #5C5CE0;\">test</span>\n",
       "                    </span>\n",
       "                    <span class=\"entity-type-assertion\" style=\"background-color: #1473E6;\">Hemoglobin [Presence] in Specimen</span>\n",
       "                </span>\n",
       "            <span class=\"non-ner\"> 9.8g/dL, H</span>\n",
       "                <span class=\"entity-wrapper-outer\" style=\"border-color: #5C5CE0;\">\n",
       "                    <span class=\"entity-wrapper\" style=\"background-color: rgba(92, 92, 224, 0.12);\">\n",
       "                        <span class=\"entity-type\" style=\"background-color: #5C5CE0;\">20570-8</span>\n",
       "                        <span class=\"entity-name\">Hematocrit</span>\n",
       "                        <span class=\"entity-type\" style=\"background-color: #5C5CE0;\">test</span>\n",
       "                    </span>\n",
       "                    <span class=\"entity-type-assertion\" style=\"background-color: #864CCC;\">Hematocrit [Volume Fraction] of Blood</span>\n",
       "                </span>\n",
       "            <span class=\"non-ner\"> 32%, M</span>\n",
       "                <span class=\"entity-wrapper-outer\" style=\"border-color: #5C5CE0;\">\n",
       "                    <span class=\"entity-wrapper\" style=\"background-color: rgba(92, 92, 224, 0.12);\">\n",
       "                        <span class=\"entity-type\" style=\"background-color: #5C5CE0;\">51641-9</span>\n",
       "                        <span class=\"entity-name\">Mean Corpuscular Volume</span>\n",
       "                        <span class=\"entity-type\" style=\"background-color: #5C5CE0;\">test</span>\n",
       "                    </span>\n",
       "                    <span class=\"entity-type-assertion\" style=\"background-color: #7CC33F;\">Mean sphered cell volume [Entitic volume] in Red Blood Cells</span>\n",
       "                </span>\n",
       "            <span class=\"non-ner\"> 110 μm3.</span></div></div>"
      ],
      "text/plain": [
       "<IPython.core.display.HTML object>"
      ]
     },
     "metadata": {},
     "output_type": "display_data"
    }
   ],
   "source": [
    "visualizer.display_visualization(text, data)"
   ]
  }
 ],
 "metadata": {
  "colab": {
   "provenance": []
  },
  "kernelspec": {
   "display_name": "Python 3 (ipykernel)",
   "language": "python",
   "name": "python3"
  },
  "language_info": {
   "codemirror_mode": {
    "name": "ipython",
    "version": 3
   },
   "file_extension": ".py",
   "mimetype": "text/x-python",
   "name": "python",
   "nbconvert_exporter": "python",
   "pygments_lexer": "ipython3",
   "version": "3.11.0"
  }
 },
 "nbformat": 4,
 "nbformat_minor": 5
}
