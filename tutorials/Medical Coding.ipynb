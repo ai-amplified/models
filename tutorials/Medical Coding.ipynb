{
 "cells": [
  {
   "cell_type": "markdown",
   "id": "7f0e4142",
   "metadata": {},
   "source": [
    "# API Tutorial - Medical Coding"
   ]
  },
  {
   "cell_type": "markdown",
   "id": "19f5c584",
   "metadata": {},
   "source": [
    "<a target=\"_blank\" href=\"https://colab.research.google.com/github/ai-amplified/models/blob/main/tutorials/Medical%20Coding.ipynb\">\n",
    "  <img src=\"https://colab.research.google.com/assets/colab-badge.svg\" alt=\"Open In Colab\"/>\n",
    "</a>"
   ]
  },
  {
   "cell_type": "markdown",
   "id": "91c2598e",
   "metadata": {},
   "source": [
    "## Short Description\n",
    "This comprehensive pipeline is designed to efficiently identify and extract Medical Codes from text documents using advanced NLP techniques such as Named Entity Recognition (NER) and Sentence Embeddings. NER identifies medical lab test entities, while sentence embeddings capture the semantic context, ensuring accurate code extraction. This solution automates the extraction process, improving workflow efficiency in lab test documentation, billing, research, and healthcare management.\n",
    "\n",
    "\n",
    "## Tutorial\n",
    "This tutorial will guide you through using the Medical Coding API. By following the steps below, you'll be able to identify and extract medical codes using the API. The main steps involved are:\n",
    "\n",
    "1. Creating an access token\n",
    "2. Installing the aimped library\n",
    "3. Running the API with your credentials and payload"
   ]
  },
  {
   "cell_type": "markdown",
   "id": "feacafef",
   "metadata": {},
   "source": [
    "## Step 1: Create Access Token"
   ]
  },
  {
   "cell_type": "markdown",
   "id": "925be06a",
   "metadata": {},
   "source": [
    "To use the API, you need an access token. Follow these steps to create one:\n",
    "\n",
    "1. Go to the [API Access Token Creation Page](https://aimped.ai/a3m/#/tokens). You will land here:\n",
    "![Token Creation Page](images/token_11.png)\n",
    "\n",
    "2. Select scopes and click on \"Create Token\".\n",
    "3. After clicking this button, you will see the pop-up from where you can copy the User Key and User Secret.\n",
    "\n",
    "![Token Creation Page2](images/token_22.png)\n",
    "\n",
    "3. Copy the generated access tokens and keep it safe. You'll need it for the next steps."
   ]
  },
  {
   "cell_type": "markdown",
   "id": "f7da9fe6",
   "metadata": {},
   "source": [
    "## Step 2: Install aimped Library\n",
    "To interact with the API, you need to install the aimped Python library. Open your terminal or command prompt and run the following command:"
   ]
  },
  {
   "cell_type": "code",
   "execution_count": 2,
   "id": "0570e728",
   "metadata": {},
   "outputs": [],
   "source": [
    "!pip install aimped==0.2.2 pandas"
   ]
  },
  {
   "cell_type": "markdown",
   "id": "1955fccb",
   "metadata": {},
   "source": [
    "This command will install the necessary library to communicate with the API."
   ]
  },
  {
   "cell_type": "markdown",
   "id": "613ef48e",
   "metadata": {},
   "source": [
    "## Step 3: Run the API\n",
    "Now that you have your access tokens and the library installed, you can run the API to identify medical code from text. Follow these steps:"
   ]
  },
  {
   "cell_type": "markdown",
   "id": "971b24d9",
   "metadata": {},
   "source": [
    "### Set up your credentials:"
   ]
  },
  {
   "cell_type": "code",
   "execution_count": 3,
   "id": "18cbf102",
   "metadata": {},
   "outputs": [],
   "source": [
    "user_key = \"YOUR_USER_KEY\"\n",
    "user_secret = \"YOUR_USER_SECRET\""
   ]
  },
  {
   "cell_type": "markdown",
   "id": "48cfae5e",
   "metadata": {},
   "source": [
    "### Import the AimpedAPI class and set the base URL and model ID:\n",
    "For other Medical Coding, you just need to change the **Model ID**. The Model ID can be found under \"API Information\" in the \"API Details\" tab on each model card."
   ]
  },
  {
   "cell_type": "code",
   "execution_count": 15,
   "id": "69f48705",
   "metadata": {},
   "outputs": [],
   "source": [
    "from aimped.services.api import AimpedAPI\n",
    "\n",
    "BASE_URL = 'https://aimped.ai'\n",
    "model_id = \"492\" # the Model ID can be found under \"API Information\" in the \"API Details\" tab on each model card."
   ]
  },
  {
   "cell_type": "markdown",
   "id": "6e62b0d8",
   "metadata": {},
   "source": [
    "### Initialize the API service:"
   ]
  },
  {
   "cell_type": "code",
   "execution_count": 16,
   "id": "a478ea85",
   "metadata": {},
   "outputs": [],
   "source": [
    "api_service = AimpedAPI(user_key, user_secret, {\"base_url\": BASE_URL})"
   ]
  },
  {
   "cell_type": "markdown",
   "id": "5e5ecbd4",
   "metadata": {},
   "source": [
    "### Define your payload:\n",
    "Define payload according to your input data type."
   ]
  },
  {
   "cell_type": "markdown",
   "id": "d51ee39b",
   "metadata": {},
   "source": [
    "#### For Text Input"
   ]
  },
  {
   "cell_type": "code",
   "execution_count": 20,
   "id": "00a29471",
   "metadata": {},
   "outputs": [],
   "source": [
    "payload = {\n",
    "  \"data_type\": \"data_json\",\n",
    "  \"data_json\": {\n",
    "    \"text\": [\n",
    "        \"A 65-year-old woman presents to the office with generalized fatigue for the last 4 months. She used to walk 1 mile each evening but now gets tired after 1-2 blocks. She has a history of Crohn disease and hypertension for which she receives appropriate medications. She is married and lives with her husband. She eats a balanced diet that includes chicken, fish, pork, fruits, and vegetables. She rarely drinks alcohol and denies tobacco use. Vital signs are within normal limits. A physical examination is unremarkable. Laboratory studies show the following: Hemoglobin: 9.8g/dL, Hematocrit: 32%, Mean Corpuscular Volume: 110 μm3.\"\n",
    "    ],\n",
    "    \"entity\": [\n",
    "      \"All LOINC Codes\" # \"all ICD-10 CM codes and descriptions\", \"2023 RxNorm Codes\"\n",
    "    ]\n",
    "  }\n",
    "}"
   ]
  },
  {
   "cell_type": "markdown",
   "id": "4fed1a64",
   "metadata": {},
   "source": [
    "#### For File Input"
   ]
  },
  {
   "cell_type": "code",
   "execution_count": 4,
   "id": "2b24d35d",
   "metadata": {},
   "outputs": [],
   "source": [
    "path_uri_obj = api_service.file_upload(\n",
    "    model_id,\n",
    "    '/Users/John/Downloads/sample.txt'  # sample file path to upload\n",
    "    )\n",
    "path_uri = path_uri_obj['url']\n",
    "\n",
    "payload = {\n",
    "  \"data_type\": \"data_txt\",\n",
    "  \"extra_fields\": {\n",
    "    \"entity\": [\n",
    "      \"All LOINC Codes\" # \"all ICD-10 CM codes and descriptions\", \"2023 RxNorm Codes\"\n",
    "    ]\n",
    "  },\n",
    "  \"data_txt\": [\n",
    "    path_uri\n",
    "  ]\n",
    "}"
   ]
  },
  {
   "cell_type": "markdown",
   "id": "41479694",
   "metadata": {},
   "source": [
    "### Run the model:"
   ]
  },
  {
   "cell_type": "code",
   "execution_count": 21,
   "id": "4b770098",
   "metadata": {},
   "outputs": [],
   "source": [
    "result = api_service.run_model(model_id, payload)"
   ]
  },
  {
   "cell_type": "markdown",
   "id": "f6fb148b",
   "metadata": {},
   "source": [
    "If you're running this model for the first time or after a long time, you might see the following message:"
   ]
  },
  {
   "cell_type": "code",
   "execution_count": 19,
   "id": "1a0559cf",
   "metadata": {},
   "outputs": [
    {
     "name": "stdout",
     "output_type": "stream",
     "text": [
      "{'message': 'We will notify you via email when the instance is ready.'}\n"
     ]
    }
   ],
   "source": [
    "print(result)"
   ]
  },
  {
   "cell_type": "markdown",
   "id": "9f100748",
   "metadata": {},
   "source": [
    "Wait for the email notification indicating that the instance is ready. You will be notified on the [Aimped](https://aimped.ai/) as well.\n",
    "![Notification Page](images/notif_1.png)\n",
    "\n",
    "You will see this notification, once the instance is ready:\n",
    "![Notification Page2](images/m_coding.png)"
   ]
  },
  {
   "cell_type": "markdown",
   "id": "d8de220f",
   "metadata": {},
   "source": [
    "Once you receive the email or notification on aimped, run the model again:"
   ]
  },
  {
   "cell_type": "code",
   "execution_count": 44,
   "id": "561a6ce0",
   "metadata": {},
   "outputs": [],
   "source": [
    "result = api_service.run_model(model_id, payload)"
   ]
  },
  {
   "cell_type": "code",
   "execution_count": 2,
   "id": "ab267693",
   "metadata": {},
   "outputs": [
    {
     "data": {
      "text/plain": [
       "{'status': True,\n",
       " 'data_type': ['data_json'],\n",
       " 'output': {'data_json': {'result': [[{'chunk': 'Vital signs',\n",
       "      'code': '8716-3',\n",
       "      'description': 'Vital signs',\n",
       "      'all_codes': ['8716-3',\n",
       "       '29274-8',\n",
       "       '80339-5',\n",
       "       '34566-0',\n",
       "       '8867-4',\n",
       "       '67801-1',\n",
       "       '34565-2',\n",
       "       '8310-5',\n",
       "       '89574-8',\n",
       "       '60834-9',\n",
       "       '69001-6',\n",
       "       '75186-7',\n",
       "       '67795-5',\n",
       "       '35094-2',\n",
       "       '18685-8',\n",
       "       '57045-7',\n",
       "       '28139-4',\n",
       "       '8713-0',\n",
       "       '18709-6',\n",
       "       '9855-8'],\n",
       "      'all_descriptions': ['Vital signs',\n",
       "       'Vital signs measurements',\n",
       "       'Vital signs assessment [Interpretation]',\n",
       "       'Vital signs with method details panel',\n",
       "       'Heart rate',\n",
       "       'EMS vital signs Narrative NEMSIS',\n",
       "       'Vital signs, weight and height panel',\n",
       "       'Body temperature',\n",
       "       'Exercise Vital Sign (EVS)',\n",
       "       'Blood temperature',\n",
       "       'Heart rate --standing',\n",
       "       'Vital status [CDC.CS]',\n",
       "       'Vital signs, weight, height, head circumference and oximetry panel HITSP',\n",
       "       'Blood pressure panel',\n",
       "       'First Blood pressure special circumstances',\n",
       "       'Cardiac status',\n",
       "       'Blood pressure alteration [CCC]',\n",
       "       'Physical findings of General status',\n",
       "       'First Heart rate special circumstances',\n",
       "       'Blood pressure special circumstances'],\n",
       "      'begin': 442,\n",
       "      'end': 453},\n",
       "     {'chunk': 'A physical examination',\n",
       "      'code': '35091-8',\n",
       "      'description': 'Patient physical',\n",
       "      'all_codes': ['35091-8',\n",
       "       '55286-9',\n",
       "       '29544-4',\n",
       "       '22029-3',\n",
       "       '11384-5',\n",
       "       '29545-1',\n",
       "       '32434-3',\n",
       "       '8713-0',\n",
       "       '35089-2',\n",
       "       '61133-5',\n",
       "       '11441-3',\n",
       "       '8657-9',\n",
       "       '32473-1',\n",
       "       '32430-1',\n",
       "       '8703-1',\n",
       "       '11410-8',\n",
       "       '10184-0',\n",
       "       '54562-4',\n",
       "       '79117-8',\n",
       "       '70912-1'],\n",
       "      'all_descriptions': ['Patient physical',\n",
       "       'Physical exam by body areas',\n",
       "       'Physical findings',\n",
       "       'Physical exam Narrative',\n",
       "       'Physical examination by organ systems',\n",
       "       'Physical findings Narrative',\n",
       "       'General appearance',\n",
       "       'Physical findings of General status',\n",
       "       'History and physical panel',\n",
       "       'Clinical impression [TIMP]',\n",
       "       'Physical findings of Musculoskeletal system',\n",
       "       'Hospital discharge physical findings',\n",
       "       'Physical findings sensation',\n",
       "       'Physical findings of Extremity',\n",
       "       'Physical findings of Extremities',\n",
       "       'Physical findings of Musculoskeletal system Narrative',\n",
       "       'Hospital discharge physical findings Narrative',\n",
       "       'Indicators of pain or possible pain',\n",
       "       'Patient examination panel [GPCOG]',\n",
       "       'Additional concerns - physical [FACIT]'],\n",
       "      'begin': 480,\n",
       "      'end': 502},\n",
       "     {'chunk': 'Laboratory studies',\n",
       "      'code': '26436-6',\n",
       "      'description': 'Laboratory studies (set)',\n",
       "      'all_codes': ['26436-6',\n",
       "       '11502-2',\n",
       "       '56850-1',\n",
       "       '18719-5',\n",
       "       '85069-3',\n",
       "       '22032-7',\n",
       "       '30954-2',\n",
       "       '92237-7',\n",
       "       '28634-4',\n",
       "       '86656-6',\n",
       "       '27899-4',\n",
       "       '92236-9',\n",
       "       '18723-7',\n",
       "       '18725-2',\n",
       "       '59462-2',\n",
       "       '67098-4',\n",
       "       '77202-0',\n",
       "       '26437-4',\n",
       "       '18720-3',\n",
       "       '18727-8'],\n",
       "      'all_descriptions': ['Laboratory studies (set)',\n",
       "       'Laboratory report',\n",
       "       'Interpretation and review of laboratory results',\n",
       "       'Chemistry studies (set)',\n",
       "       'Lab test method [Type]',\n",
       "       'Lab tests Narrative',\n",
       "       'Relevant diagnostic tests/laboratory data Narrative',\n",
       "       'Lab observation sub-type',\n",
       "       'Miscellaneous studies (set)',\n",
       "       'Lab tests - FPAR 2.0 sets',\n",
       "       'Diagnostic studies.non-lab (set)',\n",
       "       'Lab observation result status',\n",
       "       'Hematology studies (set)',\n",
       "       'Microbiology studies (set)',\n",
       "       'Clinical biochemist review of results',\n",
       "       'Reason for test or procedure',\n",
       "       'Laboratory comment [Text] in Report Narrative',\n",
       "       'Chemistry challenge studies (set)',\n",
       "       'Coagulation studies (set)',\n",
       "       'Serology studies (set)'],\n",
       "      'begin': 520,\n",
       "      'end': 538},\n",
       "     {'chunk': 'Hemoglobin',\n",
       "      'code': '34618-9',\n",
       "      'description': 'Hemoglobin [Presence] in Specimen',\n",
       "      'all_codes': ['34618-9',\n",
       "       '718-7',\n",
       "       '40547-2',\n",
       "       '717-9',\n",
       "       '4588-0',\n",
       "       '33517-4',\n",
       "       '59260-0',\n",
       "       '24360-0',\n",
       "       '30352-9',\n",
       "       '75928-2',\n",
       "       '30313-1',\n",
       "       '25433-4',\n",
       "       '17871-5',\n",
       "       '70209-2',\n",
       "       '98907-9',\n",
       "       '721-1',\n",
       "       '4542-7',\n",
       "       '33509-1',\n",
       "       '40717-1',\n",
       "       '94537-8'],\n",
       "      'all_descriptions': ['Hemoglobin [Presence] in Specimen',\n",
       "       'Hemoglobin [Mass/volume] in Blood',\n",
       "       'Hemoglobin H [Presence] in Blood',\n",
       "       'Hemoglobin [Presence] in Blood',\n",
       "       'Hemoglobin H/Hemoglobin.total in Blood',\n",
       "       'Hemoglobin [Presence] in Body fluid',\n",
       "       'Hemoglobin [Moles/volume] in Blood',\n",
       "       'Hemoglobin and Hematocrit panel - Blood',\n",
       "       'Hemoglobin [Mass/volume] in Capillary blood',\n",
       "       'Hemoglobin [Moles/volume] in Arterial blood',\n",
       "       'Hemoglobin [Mass/volume] in Arterial blood',\n",
       "       'Free Hemoglobin [Moles/volume] in Plasma',\n",
       "       'Hemoglobin H [Presence] in Blood by Heat denaturation',\n",
       "       'Haptoglobin [Moles/volume] in Serum or Plasma',\n",
       "       'Hemoglobinopathy panel',\n",
       "       'Free Hemoglobin [Mass/volume] in Plasma',\n",
       "       'Haptoglobin [Mass/volume] in Serum or Plasma',\n",
       "       'Hemoglobin [Mass/volume] in Body fluid',\n",
       "       'Haptoglobin [Presence] in Serum or Plasma',\n",
       "       'Hemoglobin panel - Blood by HPLC'],\n",
       "      'begin': 559,\n",
       "      'end': 569},\n",
       "     {'chunk': 'Hematocrit',\n",
       "      'code': '20570-8',\n",
       "      'description': 'Hematocrit [Volume Fraction] of Blood',\n",
       "      'all_codes': ['20570-8',\n",
       "       '51637-7',\n",
       "       '41654-5',\n",
       "       '17809-5',\n",
       "       '30428-7',\n",
       "       '55781-9',\n",
       "       '28540-3',\n",
       "       '26453-1',\n",
       "       '41986-1',\n",
       "       '42908-4',\n",
       "       '59467-1',\n",
       "       '39227-4',\n",
       "       '1322-7',\n",
       "       '32354-3',\n",
       "       '48703-3',\n",
       "       '11153-4',\n",
       "       '94497-5',\n",
       "       '4544-3',\n",
       "       '43416-7',\n",
       "       '790-6'],\n",
       "      'all_descriptions': ['Hematocrit [Volume Fraction] of Blood',\n",
       "       'Plateletcrit [Volume Fraction] in Blood',\n",
       "       'Hematocrit [Volume Fraction] of Venous blood',\n",
       "       'Hematocrit [Volume Fraction] of Urine',\n",
       "       'MCV [Entitic volume]',\n",
       "       'Hematocrit [Volume Fraction] of Bone marrow',\n",
       "       'MCHC [Mass/volume]',\n",
       "       'Erythrocytes [#/volume] in Blood',\n",
       "       'Hematocrit test status/results Set CPHS',\n",
       "       'Hematocrit [Volume Fraction] of Capillary blood',\n",
       "       'MCHC [Moles/volume]',\n",
       "       'Hematocrit test status CPHS',\n",
       "       'Transfusion volume',\n",
       "       'Hematocrit [Volume Fraction] of Arterial blood',\n",
       "       'Hematocrit [Volume Fraction] of Blood by Estimated',\n",
       "       'Hematocrit [Volume Fraction] of Body fluid',\n",
       "       'Packed erythrocytes [Volume] of Specimen',\n",
       "       'Hematocrit [Volume Fraction] of Blood by Automated count',\n",
       "       'Hematocrit [Volume Fraction] of Stem cell product',\n",
       "       'Erythrocytes [#/volume] in Blood by Manual count'],\n",
       "      'begin': 580,\n",
       "      'end': 590},\n",
       "     {'chunk': 'Mean Corpuscular Volume',\n",
       "      'code': '51641-9',\n",
       "      'description': 'Mean sphered cell volume [Entitic volume] in Red Blood Cells',\n",
       "      'all_codes': ['51641-9',\n",
       "       '48706-6',\n",
       "       '30386-7',\n",
       "       '76141-1',\n",
       "       '30428-7',\n",
       "       '784-9',\n",
       "       '3157-5',\n",
       "       '739-3',\n",
       "       '28540-3',\n",
       "       '28539-5',\n",
       "       '28542-9',\n",
       "       '59467-1',\n",
       "       '30351-1',\n",
       "       '40568-8',\n",
       "       '776-5',\n",
       "       '50875-4',\n",
       "       '30433-7',\n",
       "       '20352-1',\n",
       "       '76683-2',\n",
       "       '743-5'],\n",
       "      'all_descriptions': ['Mean sphered cell volume [Entitic volume] in Red Blood Cells',\n",
       "       'Reticulocyte mean volume [Entitic volume] in Reticulocytes',\n",
       "       'Erythrocyte mean corpuscular diameter [Length]',\n",
       "       'Reticulocyte corpuscular hemoglobin concentration mean [Mass/volume] in Blood',\n",
       "       'MCV [Entitic volume]',\n",
       "       'Erythrocyte mean corpuscular diameter [Length] by Automated count',\n",
       "       'Volume of Blood',\n",
       "       'Metamyelocytes [#/volume] in Blood by Manual count',\n",
       "       'MCHC [Mass/volume]',\n",
       "       'MCH [Entitic mass]',\n",
       "       'Platelet mean volume [Entitic volume] in Blood',\n",
       "       'MCHC [Moles/volume]',\n",
       "       'Hemoglobin [Mass/volume] in Mixed venous blood',\n",
       "       'Metamyelocytes [#/volume] in Body fluid by Manual count',\n",
       "       'Platelet mean volume [Entitic volume] in Blood by Rees-Ecker',\n",
       "       'Manganese [Moles/volume] in Red Blood Cells',\n",
       "       'Metamyelocytes [#/volume] in Blood',\n",
       "       'Circulatory system Mean blood flow velocity by US.doppler',\n",
       "       'Mean platelet component [Mass/volume] in Blood by calculation',\n",
       "       'Monocytes [#/volume] in Blood by Manual count'],\n",
       "      'begin': 597,\n",
       "      'end': 620}]]}}}"
      ]
     },
     "execution_count": 2,
     "metadata": {},
     "output_type": "execute_result"
    }
   ],
   "source": [
    "result"
   ]
  },
  {
   "cell_type": "code",
   "execution_count": 3,
   "id": "1d7e9ff4",
   "metadata": {},
   "outputs": [],
   "source": [
    "chunks = result['output']['data_json']['result'][0]"
   ]
  },
  {
   "cell_type": "code",
   "execution_count": 4,
   "id": "afc84043",
   "metadata": {},
   "outputs": [],
   "source": [
    "import pandas as pd\n",
    "table = pd.DataFrame(chunks, columns=['chunk', 'code'])"
   ]
  },
  {
   "cell_type": "code",
   "execution_count": 5,
   "id": "47ff264a",
   "metadata": {},
   "outputs": [
    {
     "data": {
      "text/html": [
       "<div>\n",
       "<style scoped>\n",
       "    .dataframe tbody tr th:only-of-type {\n",
       "        vertical-align: middle;\n",
       "    }\n",
       "\n",
       "    .dataframe tbody tr th {\n",
       "        vertical-align: top;\n",
       "    }\n",
       "\n",
       "    .dataframe thead th {\n",
       "        text-align: right;\n",
       "    }\n",
       "</style>\n",
       "<table border=\"1\" class=\"dataframe\">\n",
       "  <thead>\n",
       "    <tr style=\"text-align: right;\">\n",
       "      <th></th>\n",
       "      <th>chunk</th>\n",
       "      <th>code</th>\n",
       "    </tr>\n",
       "  </thead>\n",
       "  <tbody>\n",
       "    <tr>\n",
       "      <th>0</th>\n",
       "      <td>Vital signs</td>\n",
       "      <td>8716-3</td>\n",
       "    </tr>\n",
       "    <tr>\n",
       "      <th>1</th>\n",
       "      <td>A physical examination</td>\n",
       "      <td>35091-8</td>\n",
       "    </tr>\n",
       "    <tr>\n",
       "      <th>2</th>\n",
       "      <td>Laboratory studies</td>\n",
       "      <td>26436-6</td>\n",
       "    </tr>\n",
       "    <tr>\n",
       "      <th>3</th>\n",
       "      <td>Hemoglobin</td>\n",
       "      <td>34618-9</td>\n",
       "    </tr>\n",
       "    <tr>\n",
       "      <th>4</th>\n",
       "      <td>Hematocrit</td>\n",
       "      <td>20570-8</td>\n",
       "    </tr>\n",
       "    <tr>\n",
       "      <th>5</th>\n",
       "      <td>Mean Corpuscular Volume</td>\n",
       "      <td>51641-9</td>\n",
       "    </tr>\n",
       "  </tbody>\n",
       "</table>\n",
       "</div>"
      ],
      "text/plain": [
       "                     chunk     code\n",
       "0              Vital signs   8716-3\n",
       "1   A physical examination  35091-8\n",
       "2       Laboratory studies  26436-6\n",
       "3               Hemoglobin  34618-9\n",
       "4               Hematocrit  20570-8\n",
       "5  Mean Corpuscular Volume  51641-9"
      ]
     },
     "execution_count": 5,
     "metadata": {},
     "output_type": "execute_result"
    }
   ],
   "source": [
    "table"
   ]
  }
 ],
 "metadata": {
  "kernelspec": {
   "display_name": "venv",
   "language": "python",
   "name": "venv"
  },
  "language_info": {
   "codemirror_mode": {
    "name": "ipython",
    "version": 3
   },
   "file_extension": ".py",
   "mimetype": "text/x-python",
   "name": "python",
   "nbconvert_exporter": "python",
   "pygments_lexer": "ipython3",
   "version": "3.9.12"
  }
 },
 "nbformat": 4,
 "nbformat_minor": 5
}
