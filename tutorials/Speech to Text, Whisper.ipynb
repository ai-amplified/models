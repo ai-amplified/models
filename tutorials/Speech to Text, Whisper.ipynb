{
 "cells": [
  {
   "cell_type": "markdown",
   "id": "7f0e4142",
   "metadata": {},
   "source": [
    "# API Tutorial - Video/Audio Speech to Text, Whisper Large-v3"
   ]
  },
  {
   "cell_type": "markdown",
   "id": "91c2598e",
   "metadata": {},
   "source": [
    "## Short Description:\n",
    "This model is designed for seamless video/audio transcription. It leverages the power of auto speech recognition (ASR) technology to convert audio data from a wide range of sources, including YouTube videos, audio files, video files, and URLs, into text. The model is built on the Whisper-Large-V3 by OpenAI, a state-of-the-art general-purpose speech recognition model known for its exceptional performance. At its core, Whisper is a Transformer-based encoder-decoder model, also known as a sequence-to-sequence model. You can save **50%** on Speech-to-Text Whisper API compared to other providers.\n",
    "\n",
    "**Inference Latency:** A typical 1-minute audio file/YouTube URL with a single concurrent request takes approximately 4-5 seconds to transcribe. Note that this does not include the file upload time.\n",
    "\n",
    "## Tutorial\n",
    "This tutorial will guide you through using the Whisper-Video/Audio Speech to Text API. By following the steps below, you'll be able to transcribe your video/audio using the API. The main steps involved are:\n",
    "\n",
    "1. Creating an access token\n",
    "2. Installing the aimped library\n",
    "3. Running the API with your credentials and payload"
   ]
  },
  {
   "cell_type": "markdown",
   "id": "feacafef",
   "metadata": {},
   "source": [
    "## Step 1: Create Access Token"
   ]
  },
  {
   "cell_type": "markdown",
   "id": "925be06a",
   "metadata": {},
   "source": [
    "To use the API, you need an access token. Follow these steps to create one:\n",
    "\n",
    "1. Go to the [API Access Token Creation Page](https://aimped.ai/a3m/#/tokens). You will land here:\n",
    "![Token Creation Page](images/token_11.png)\n",
    "\n",
    "2. Select scopes and click on \"Create Token\".\n",
    "3. After clicking this button, you will see the pop-up from where you can copy the User Key and User Secret.\n",
    "\n",
    "![Token Creation Page2](images/token_22.png)\n",
    "\n",
    "3. Copy the generated access tokens and keep it safe. You'll need it for the next steps."
   ]
  },
  {
   "cell_type": "markdown",
   "id": "f7da9fe6",
   "metadata": {},
   "source": [
    "## Step 2: Install aimped Library\n",
    "To interact with the API, you need to install the aimped Python library. Open your terminal or command prompt and run the following command:"
   ]
  },
  {
   "cell_type": "code",
   "execution_count": 2,
   "id": "0570e728",
   "metadata": {},
   "outputs": [],
   "source": [
    "!pip install aimped==0.2.44"
   ]
  },
  {
   "cell_type": "markdown",
   "id": "1955fccb",
   "metadata": {},
   "source": [
    "This command will install the necessary library to communicate with the API."
   ]
  },
  {
   "cell_type": "markdown",
   "id": "613ef48e",
   "metadata": {},
   "source": [
    "## Step 3: Run the API\n",
    "Now that you have your access tokens and the library installed, you can run the API to transcribe your audio/video to text. Follow these steps:"
   ]
  },
  {
   "cell_type": "markdown",
   "id": "971b24d9",
   "metadata": {},
   "source": [
    "### Set up your credentials:"
   ]
  },
  {
   "cell_type": "code",
   "execution_count": 3,
   "id": "18cbf102",
   "metadata": {},
   "outputs": [],
   "source": [
    "user_key = \"YOUR_USER_KEY\"\n",
    "user_secret = \"YOUR_USER_SECRET\""
   ]
  },
  {
   "cell_type": "markdown",
   "id": "48cfae5e",
   "metadata": {},
   "source": [
    "### Import the AimpedAPI class and set the base URL and model ID:\n",
    "For using this model, you need to enter the correct **Model ID**. The Model ID can be found under \"API Information\" in the \"API Details\" tab on each model card."
   ]
  },
  {
   "cell_type": "code",
   "execution_count": 10,
   "id": "69f48705",
   "metadata": {},
   "outputs": [],
   "source": [
    "from aimped.services.api import AimpedAPI\n",
    "\n",
    "BASE_URL = 'https://aimped.ai'\n",
    "model_id = \"170\" # the Model ID can be found under \"API Information\" in the \"API Details\" tab on each model card."
   ]
  },
  {
   "cell_type": "markdown",
   "id": "6e62b0d8",
   "metadata": {},
   "source": [
    "### Initialize the API service:"
   ]
  },
  {
   "cell_type": "code",
   "execution_count": 16,
   "id": "a478ea85",
   "metadata": {},
   "outputs": [],
   "source": [
    "api_service = AimpedAPI(user_key, user_secret, {\"base_url\": BASE_URL})"
   ]
  },
  {
   "cell_type": "markdown",
   "id": "5e5ecbd4",
   "metadata": {},
   "source": [
    "### Define your payload:\n",
    "Define payload according to your input data type."
   ]
  },
  {
   "cell_type": "markdown",
   "id": "8cb082d3",
   "metadata": {},
   "source": [
    "#### For Youtube URL"
   ]
  },
  {
   "cell_type": "code",
   "execution_count": 20,
   "id": "00a29471",
   "metadata": {},
   "outputs": [],
   "source": [
    "payload = {\n",
    "  \"data_type\": \"data_audio\",\n",
    "  \"extra_fields\": {\n",
    "    \"translation\": False,\n",
    "    \"language\": \"en\",\n",
    "    \"model_name\": \"audio-asr-whisper-largev3-multi\"\n",
    "  },\n",
    "  \"data_audio\": [\n",
    "    \"https://www.youtube.com/shorts/ANEokonLIPg\"\n",
    "  ]\n",
    "}"
   ]
  },
  {
   "cell_type": "markdown",
   "id": "8d3accd1",
   "metadata": {},
   "source": [
    "#### For File Input"
   ]
  },
  {
   "cell_type": "code",
   "execution_count": 21,
   "id": "df32477c",
   "metadata": {},
   "outputs": [],
   "source": [
    "path_uri_obj = api_service.file_upload(\n",
    "    model_id,\n",
    "    '/Users/John/Downloads/sample.mp3'  # sample file path to upload\n",
    "    )\n",
    "path_uri = path_uri_obj['url']\n",
    "\n",
    "payload = {\n",
    "  \"data_type\": \"data_audio\",\n",
    "  \"extra_fields\": {\n",
    "    \"translation\": False,\n",
    "    \"language\": \"en\",\n",
    "    \"model_name\": \"audio-asr-whisper-largev3-multi\"\n",
    "  },\n",
    "  \"data_audio\": [\n",
    "    path_uri\n",
    "  ]\n",
    "}"
   ]
  },
  {
   "cell_type": "markdown",
   "id": "41479694",
   "metadata": {},
   "source": [
    "### Run the model:"
   ]
  },
  {
   "cell_type": "code",
   "execution_count": 21,
   "id": "4b770098",
   "metadata": {},
   "outputs": [],
   "source": [
    "result = api_service.run_model(model_id, payload)"
   ]
  },
  {
   "cell_type": "markdown",
   "id": "f6fb148b",
   "metadata": {},
   "source": [
    "If you're running this model for the first time or after a long time, you might see the following message:"
   ]
  },
  {
   "cell_type": "code",
   "execution_count": 24,
   "id": "1a0559cf",
   "metadata": {},
   "outputs": [
    {
     "name": "stdout",
     "output_type": "stream",
     "text": [
      "{'message': 'We will notify you via email when the instance is ready.'}\n"
     ]
    }
   ],
   "source": [
    "print(result)"
   ]
  },
  {
   "cell_type": "markdown",
   "id": "9f100748",
   "metadata": {},
   "source": [
    "Wait for the email notification indicating that the instance is ready. You will be notified on the [Aimped](https://aimped.ai/) as well.\n",
    "![Notification Page](images/notif_1.png)\n",
    "\n",
    "You will see this notification, once the instance is ready:\n",
    "![Notification Page2](images/whisper_notif.png)"
   ]
  },
  {
   "cell_type": "markdown",
   "id": "d8de220f",
   "metadata": {},
   "source": [
    "Once you receive the email or notification on aimped, run the model again:"
   ]
  },
  {
   "cell_type": "code",
   "execution_count": 25,
   "id": "561a6ce0",
   "metadata": {},
   "outputs": [],
   "source": [
    "result = api_service.run_model(model_id, payload)"
   ]
  },
  {
   "cell_type": "code",
   "execution_count": 29,
   "id": "48d92afc",
   "metadata": {},
   "outputs": [
    {
     "data": {
      "text/plain": [
       "[\"If you stay in your comfort zone, that's where you will fail in your comfort zone. Success is not a comfortable procedure. It is a very uncomfortable thing to attempt. So you got to get comfortable being uncomfortable. uncomfortable if you ever want to be successful.\"]"
      ]
     },
     "execution_count": 29,
     "metadata": {},
     "output_type": "execute_result"
    }
   ],
   "source": [
    "# Transcribed Text\n",
    "result['output']['data_json']['transcription']"
   ]
  }
 ],
 "metadata": {
  "kernelspec": {
   "display_name": "Python 3 (ipykernel)",
   "language": "python",
   "name": "python3"
  },
  "language_info": {
   "codemirror_mode": {
    "name": "ipython",
    "version": 3
   },
   "file_extension": ".py",
   "mimetype": "text/x-python",
   "name": "python",
   "nbconvert_exporter": "python",
   "pygments_lexer": "ipython3",
   "version": "3.9.12"
  }
 },
 "nbformat": 4,
 "nbformat_minor": 5
}
