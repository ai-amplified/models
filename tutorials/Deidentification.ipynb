{
 "cells": [
  {
   "cell_type": "markdown",
   "id": "7f0e4142",
   "metadata": {},
   "source": [
    "# API Tutorial - Deidentification"
   ]
  },
  {
   "cell_type": "markdown",
   "id": "91c2598e",
   "metadata": {},
   "source": [
    "## Short Description:\n",
    "The Deidentification AI model is designed to extract, conceal, and anonymize Protected Health Information (PHI) in English biomedical texts, ensuring HIPAA compliance. Developed by Aimped using a fine-tuned [DeBERTa-v3-small](https://github.com/microsoft/DeBERTa) transformer model and a proprietary dataset, it combines Deep Learning NER and rule-based regex patterns. The model outputs structured JSON files with extracted and masked PHI entities, suitable for various professionals in the healthcare and research fields. With an impressive F1 score of approximately **0.96**, it supports up to 128K characters for deidentification operations in both UI and API requests.\n",
    "\n",
    "## Tutorial\n",
    "This tutorial will guide you through using the Deidentification API. By following the steps below, you'll be able to extract, conceal, and anonymize Protected Health Information (PHI) from biomedical texts using the API. The main steps involved are:\n",
    "\n",
    "1. Creating an access token\n",
    "2. Installing the aimped library\n",
    "3. Running the API with your credentials and payload"
   ]
  },
  {
   "cell_type": "markdown",
   "id": "feacafef",
   "metadata": {},
   "source": [
    "## Step 1: Create Access Token"
   ]
  },
  {
   "cell_type": "markdown",
   "id": "925be06a",
   "metadata": {},
   "source": [
    "To use the API, you need an access token. Follow these steps to create one:\n",
    "\n",
    "1. Go to the [API Access Token Creation Page](https://aimped.ai/a3m/#/tokens). You will land here:\n",
    "![Token Creation Page](images/token_11.png)\n",
    "\n",
    "2. Select scopes and click on \"Create Token\".\n",
    "3. After clicking this button, you will see the pop-up from where you can copy the User Key and User Secret.\n",
    "\n",
    "![Token Creation Page2](images/token_22.png)\n",
    "\n",
    "3. Copy the generated access tokens and keep it safe. You'll need it for the next steps."
   ]
  },
  {
   "cell_type": "markdown",
   "id": "f7da9fe6",
   "metadata": {},
   "source": [
    "## Step 2: Install aimped Library\n",
    "To interact with the API, you need to install the aimped Python library. Open your terminal or command prompt and run the following command:"
   ]
  },
  {
   "cell_type": "code",
   "execution_count": 2,
   "id": "0570e728",
   "metadata": {},
   "outputs": [],
   "source": [
    "!pip install aimped==0.2.2 pandas"
   ]
  },
  {
   "cell_type": "markdown",
   "id": "1955fccb",
   "metadata": {},
   "source": [
    "This command will install the necessary library to communicate with the API."
   ]
  },
  {
   "cell_type": "markdown",
   "id": "613ef48e",
   "metadata": {},
   "source": [
    "## Step 3: Run the API\n",
    "Now that you have your access tokens and the library installed, you can run the API to apply deidentification. Follow these steps:"
   ]
  },
  {
   "cell_type": "markdown",
   "id": "971b24d9",
   "metadata": {},
   "source": [
    "### Set up your credentials:"
   ]
  },
  {
   "cell_type": "code",
   "execution_count": 3,
   "id": "18cbf102",
   "metadata": {},
   "outputs": [],
   "source": [
    "user_key = \"YOUR_USER_KEY\"\n",
    "user_secret = \"YOUR_USER_SECRET\""
   ]
  },
  {
   "cell_type": "markdown",
   "id": "48cfae5e",
   "metadata": {},
   "source": [
    "### Import the AimpedAPI class and set the base URL and model ID:\n",
    "To deidentify other languages, you just need to change the **Model ID**. The Model ID can be found under \"API Information\" in the \"API Details\" tab on each model card."
   ]
  },
  {
   "cell_type": "code",
   "execution_count": 10,
   "id": "69f48705",
   "metadata": {},
   "outputs": [],
   "source": [
    "from aimped.services.api import AimpedAPI\n",
    "\n",
    "BASE_URL = 'https://aimped.ai'\n",
    "model_id = \"25\" # the Model ID can be found under \"API Information\" in the \"API Details\" tab on each model card."
   ]
  },
  {
   "cell_type": "markdown",
   "id": "6e62b0d8",
   "metadata": {},
   "source": [
    "### Initialize the API service:"
   ]
  },
  {
   "cell_type": "code",
   "execution_count": 16,
   "id": "a478ea85",
   "metadata": {},
   "outputs": [],
   "source": [
    "api_service = AimpedAPI(user_key, user_secret, {\"base_url\": BASE_URL})"
   ]
  },
  {
   "cell_type": "markdown",
   "id": "5e5ecbd4",
   "metadata": {},
   "source": [
    "### Define your payload:\n",
    "Define payload according to your input data type."
   ]
  },
  {
   "cell_type": "markdown",
   "id": "8cb082d3",
   "metadata": {},
   "source": [
    "#### For Text input"
   ]
  },
  {
   "cell_type": "code",
   "execution_count": 20,
   "id": "00a29471",
   "metadata": {},
   "outputs": [],
   "source": [
    "payload = {\n",
    "    \"data_type\": \"data_json\",\n",
    "    \"data_json\": {\n",
    "        \"text\": [\n",
    "            \"Mrs. Jane Smith, born on January 10, 1975, with Social Security Number 123-45-6789, has been undergoing treatment for diabetes mellitus type 2 at our clinic since March 2018, where she receives regular insulin injections and takes metformin 1000mg daily to manage her blood sugar levels, as prescribed by Dr. Johnson, her primary care physician.\",\n",
    "            ],\n",
    "        \"masked\": True,\n",
    "        \"faked\": True,\n",
    "        \"entity\": [\n",
    "            \"DATE\",\n",
    "            \"DOCTOR\",\n",
    "            \"AGE\",\n",
    "            \"PATIENT\",\n",
    "            \"MEDICALRECORD\",\n",
    "            \"IDNUM\",\n",
    "            \"ORGANIZATION\",\n",
    "            \"CITY\",\n",
    "            \"STREET\",\n",
    "            \"COUNTRY\",\n",
    "            \"ZIP\",\n",
    "            \"ACCOUNT\",\n",
    "            \"PLATE\",\n",
    "            \"LICENSE\",\n",
    "            \"DEVICE\",\n",
    "            \"HOSPITAL\",\n",
    "            \"LOCATION\",\n",
    "            \"PATIENT\",\n",
    "            \"PHONE\",\n",
    "            \"PROFESSION\",\n",
    "            \"STATE\",\n",
    "            \"USERNAME\",\n",
    "            \"URL\",\n",
    "            \"EMAIL\",\n",
    "            \"FAX\",\n",
    "            \"IP\",\n",
    "            \"VIN\",\n",
    "            \"SSN\",\n",
    "            \"DLN\"\n",
    "        ]\n",
    "    }\n",
    "}\n"
   ]
  },
  {
   "cell_type": "markdown",
   "id": "8d3accd1",
   "metadata": {},
   "source": [
    "#### For File Input"
   ]
  },
  {
   "cell_type": "code",
   "execution_count": null,
   "id": "df32477c",
   "metadata": {},
   "outputs": [],
   "source": [
    "path_uri_obj = api_service.file_upload(\n",
    "    model_id,\n",
    "    '/Users/John/Downloads/sample.txt'  # sample file path to upload\n",
    "    )\n",
    "path_uri = path_uri_obj['url']\n",
    "\n",
    "payload = {\n",
    "  \"data_type\": \"data_txt\",\n",
    "  \"extra_fields\": {\n",
    "    \"masked\": True,\n",
    "    \"faked\": True,\n",
    "    \"entity\": [\n",
    "            \"DATE\",\n",
    "            \"DOCTOR\",\n",
    "            \"AGE\",\n",
    "            \"PATIENT\",\n",
    "            \"MEDICALRECORD\",\n",
    "            \"IDNUM\",\n",
    "            \"ORGANIZATION\",\n",
    "            \"CITY\",\n",
    "            \"STREET\",\n",
    "            \"COUNTRY\",\n",
    "            \"ZIP\",\n",
    "            \"ACCOUNT\",\n",
    "            \"PLATE\",\n",
    "            \"LICENSE\",\n",
    "            \"DEVICE\",\n",
    "            \"HOSPITAL\",\n",
    "            \"LOCATION\",\n",
    "            \"PATIENT\",\n",
    "            \"PHONE\",\n",
    "            \"PROFESSION\",\n",
    "            \"STATE\",\n",
    "            \"USERNAME\",\n",
    "            \"URL\",\n",
    "            \"EMAIL\",\n",
    "            \"FAX\",\n",
    "            \"IP\",\n",
    "            \"VIN\",\n",
    "            \"SSN\",\n",
    "            \"DLN\"\n",
    "        ]\n",
    "  },\n",
    "  \"data_txt\": [\n",
    "    path_uri\n",
    "  ]\n",
    "}"
   ]
  },
  {
   "cell_type": "markdown",
   "id": "41479694",
   "metadata": {},
   "source": [
    "### Run the model:"
   ]
  },
  {
   "cell_type": "code",
   "execution_count": 21,
   "id": "4b770098",
   "metadata": {},
   "outputs": [],
   "source": [
    "result = api_service.run_model(model_id, payload)"
   ]
  },
  {
   "cell_type": "markdown",
   "id": "f6fb148b",
   "metadata": {},
   "source": [
    "If you're running this model for the first time or after a long time, you might see the following message:"
   ]
  },
  {
   "cell_type": "code",
   "execution_count": 19,
   "id": "1a0559cf",
   "metadata": {},
   "outputs": [
    {
     "name": "stdout",
     "output_type": "stream",
     "text": [
      "{'message': 'We will notify you via email when the instance is ready.'}\n"
     ]
    }
   ],
   "source": [
    "print(result)"
   ]
  },
  {
   "cell_type": "markdown",
   "id": "9f100748",
   "metadata": {},
   "source": [
    "Wait for the email notification indicating that the instance is ready. You will be notified on the [Aimped](https://aimped.ai/) as well.\n",
    "![Notification Page](images/notif_1.png)\n",
    "\n",
    "You will see this notification, once the instance is ready:\n",
    "![Notification Page2](images/deidentify_notif.png)"
   ]
  },
  {
   "cell_type": "markdown",
   "id": "d8de220f",
   "metadata": {},
   "source": [
    "Once you receive the email or notification on aimped, run the model again:"
   ]
  },
  {
   "cell_type": "code",
   "execution_count": 44,
   "id": "561a6ce0",
   "metadata": {},
   "outputs": [],
   "source": [
    "result = api_service.run_model(model_id, payload)"
   ]
  },
  {
   "cell_type": "code",
   "execution_count": 5,
   "id": "d58925c3",
   "metadata": {},
   "outputs": [
    {
     "data": {
      "text/plain": [
       "{'used_credits': 4.22625,\n",
       " 'status': True,\n",
       " 'data_type': ['data_json'],\n",
       " 'output': {'data_json': {'result': [{'entities': [{'entity': 'PATIENT',\n",
       "       'confidence': 0.9999309778213501,\n",
       "       'chunk': 'Jane Smith',\n",
       "       'begin': 5,\n",
       "       'end': 15,\n",
       "       'faked_chunk': 'Yettie Dicte'},\n",
       "      {'entity': 'DATE',\n",
       "       'confidence': 0.9999922513961792,\n",
       "       'chunk': 'January 10, 1975',\n",
       "       'begin': 25,\n",
       "       'end': 41,\n",
       "       'faked_chunk': '12/25/2008'},\n",
       "      {'chunk': '123-45-6789',\n",
       "       'confidence': 1,\n",
       "       'begin': 71,\n",
       "       'end': 82,\n",
       "       'entity': 'SSN',\n",
       "       'faked_chunk': '193-09-5107'},\n",
       "      {'entity': 'DATE',\n",
       "       'confidence': 0.999982476234436,\n",
       "       'chunk': 'March 2018',\n",
       "       'begin': 163,\n",
       "       'end': 173,\n",
       "       'faked_chunk': '1999'},\n",
       "      {'entity': 'DOCTOR',\n",
       "       'confidence': 0.99998939037323,\n",
       "       'chunk': 'Johnson',\n",
       "       'begin': 309,\n",
       "       'end': 316,\n",
       "       'faked_chunk': 'Dunn, Amanda'}],\n",
       "     'masked_text': 'Mrs. <<PATIENT>>, born on <<DATE>>, with Social Security Number <<SSN>>, has been undergoing treatment for diabetes mellitus type 2 at our clinic since <<DATE>>, where she receives regular insulin injections and takes metformin 1000mg daily to manage her blood sugar levels, as prescribed by Dr. <<DOCTOR>>, her primary care physician.',\n",
       "     'faked_text': 'Mrs. Yettie Dicte, born on 12/25/2008, with Social Security Number 193-09-5107, has been undergoing treatment for diabetes mellitus type 2 at our clinic since 1999, where she receives regular insulin injections and takes metformin 1000mg daily to manage her blood sugar levels, as prescribed by Dr. Dunn, Amanda, her primary care physician.'}]}}}"
      ]
     },
     "execution_count": 5,
     "metadata": {},
     "output_type": "execute_result"
    }
   ],
   "source": [
    "result"
   ]
  },
  {
   "cell_type": "code",
   "execution_count": 5,
   "id": "eb909ce0",
   "metadata": {},
   "outputs": [],
   "source": [
    "entities = result['output']['data_json']['result'][0]['entities']"
   ]
  },
  {
   "cell_type": "code",
   "execution_count": 6,
   "id": "57196cd4",
   "metadata": {},
   "outputs": [],
   "source": [
    "import pandas as pd\n",
    "table = pd.DataFrame(entities, columns=['entity', 'chunk', 'faked_chunk'])"
   ]
  },
  {
   "cell_type": "code",
   "execution_count": 7,
   "id": "9a80e6d9",
   "metadata": {},
   "outputs": [
    {
     "data": {
      "text/html": [
       "<div>\n",
       "<style scoped>\n",
       "    .dataframe tbody tr th:only-of-type {\n",
       "        vertical-align: middle;\n",
       "    }\n",
       "\n",
       "    .dataframe tbody tr th {\n",
       "        vertical-align: top;\n",
       "    }\n",
       "\n",
       "    .dataframe thead th {\n",
       "        text-align: right;\n",
       "    }\n",
       "</style>\n",
       "<table border=\"1\" class=\"dataframe\">\n",
       "  <thead>\n",
       "    <tr style=\"text-align: right;\">\n",
       "      <th></th>\n",
       "      <th>entity</th>\n",
       "      <th>chunk</th>\n",
       "      <th>faked_chunk</th>\n",
       "    </tr>\n",
       "  </thead>\n",
       "  <tbody>\n",
       "    <tr>\n",
       "      <th>0</th>\n",
       "      <td>PATIENT</td>\n",
       "      <td>Jane Smith</td>\n",
       "      <td>Yettie Dicte</td>\n",
       "    </tr>\n",
       "    <tr>\n",
       "      <th>1</th>\n",
       "      <td>DATE</td>\n",
       "      <td>January 10, 1975</td>\n",
       "      <td>12/25/2008</td>\n",
       "    </tr>\n",
       "    <tr>\n",
       "      <th>2</th>\n",
       "      <td>SSN</td>\n",
       "      <td>123-45-6789</td>\n",
       "      <td>193-09-5107</td>\n",
       "    </tr>\n",
       "    <tr>\n",
       "      <th>3</th>\n",
       "      <td>DATE</td>\n",
       "      <td>March 2018</td>\n",
       "      <td>1999</td>\n",
       "    </tr>\n",
       "    <tr>\n",
       "      <th>4</th>\n",
       "      <td>DOCTOR</td>\n",
       "      <td>Johnson</td>\n",
       "      <td>Dunn, Amanda</td>\n",
       "    </tr>\n",
       "  </tbody>\n",
       "</table>\n",
       "</div>"
      ],
      "text/plain": [
       "    entity             chunk   faked_chunk\n",
       "0  PATIENT        Jane Smith  Yettie Dicte\n",
       "1     DATE  January 10, 1975    12/25/2008\n",
       "2      SSN       123-45-6789   193-09-5107\n",
       "3     DATE        March 2018          1999\n",
       "4   DOCTOR           Johnson  Dunn, Amanda"
      ]
     },
     "execution_count": 7,
     "metadata": {},
     "output_type": "execute_result"
    }
   ],
   "source": [
    "table"
   ]
  }
 ],
 "metadata": {
  "kernelspec": {
   "display_name": "venv",
   "language": "python",
   "name": "venv"
  },
  "language_info": {
   "codemirror_mode": {
    "name": "ipython",
    "version": 3
   },
   "file_extension": ".py",
   "mimetype": "text/x-python",
   "name": "python",
   "nbconvert_exporter": "python",
   "pygments_lexer": "ipython3",
   "version": "3.9.12"
  }
 },
 "nbformat": 4,
 "nbformat_minor": 5
}
