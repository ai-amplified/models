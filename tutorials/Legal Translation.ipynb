{
 "cells": [
  {
   "cell_type": "markdown",
   "id": "7f0e4142",
   "metadata": {},
   "source": [
    "# API Tutorial - Legal Translation"
   ]
  },
  {
   "cell_type": "markdown",
   "id": "91c2598e",
   "metadata": {},
   "source": [
    "## Short Description:\n",
    "The Legal Translation AI model is a specialized tool for accurately translating legal documents from one language to another, designed to aid legal professionals and researchers. Capable of handling various documents such as contracts, agreements, legal briefs, and court decisions, this model ensures efficient and reliable translations, streamlining the often complex process of legal language translation.\n",
    "\n",
    "## Tutorial\n",
    "This tutorial will guide you through using the Legal Translation API. By following the steps below, you'll be able to translate legal text from one language to another using the API. The main steps involved are:\n",
    "\n",
    "1. Creating an access token\n",
    "2. Installing the aimped library\n",
    "3. Running the API with your credentials and payload"
   ]
  },
  {
   "cell_type": "markdown",
   "id": "feacafef",
   "metadata": {},
   "source": [
    "## Step 1: Create Access Token"
   ]
  },
  {
   "cell_type": "markdown",
   "id": "925be06a",
   "metadata": {},
   "source": [
    "To use the API, you need an access token. Follow these steps to create one:\n",
    "\n",
    "1. Go to the [API Access Token Creation Page](https://aimped.ai/a3m/#/tokens). You will land here:\n",
    "![Token Creation Page](images/token_11.png)\n",
    "\n",
    "2. Select scopes and click on \"Create Token\".\n",
    "3. After clicking this button, you will see the pop-up from where you can copy the User Key and User Secret.\n",
    "\n",
    "![Token Creation Page2](images/token_22.png)\n",
    "\n",
    "3. Copy the generated access tokens and keep it safe. You'll need it for the next steps."
   ]
  },
  {
   "cell_type": "markdown",
   "id": "f7da9fe6",
   "metadata": {},
   "source": [
    "## Step 2: Install aimped Library\n",
    "To interact with the API, you need to install the aimped Python library. Open your terminal or command prompt and run the following command:"
   ]
  },
  {
   "cell_type": "code",
   "execution_count": 2,
   "id": "0570e728",
   "metadata": {},
   "outputs": [],
   "source": [
    "!pip install aimped==0.2.2"
   ]
  },
  {
   "cell_type": "markdown",
   "id": "1955fccb",
   "metadata": {},
   "source": [
    "This command will install the necessary library to communicate with the API."
   ]
  },
  {
   "cell_type": "markdown",
   "id": "613ef48e",
   "metadata": {},
   "source": [
    "## Step 3: Run the API\n",
    "Now that you have your access tokens and the library installed, you can run the API to translate text. Follow these steps:"
   ]
  },
  {
   "cell_type": "markdown",
   "id": "971b24d9",
   "metadata": {},
   "source": [
    "### Set up your credentials:"
   ]
  },
  {
   "cell_type": "code",
   "execution_count": 3,
   "id": "18cbf102",
   "metadata": {},
   "outputs": [],
   "source": [
    "user_key = \"YOUR_USER_KEY\"\n",
    "user_secret = \"YOUR_USER_SECRET\""
   ]
  },
  {
   "cell_type": "markdown",
   "id": "48cfae5e",
   "metadata": {},
   "source": [
    "### Import the AimpedAPI class and set the base URL and model ID:\n",
    "For Legal Translation of other languages, you just need to change the **Model ID**. The Model ID can be found under \"API Information\" in the \"API Details\" tab on each model card."
   ]
  },
  {
   "cell_type": "code",
   "execution_count": 15,
   "id": "69f48705",
   "metadata": {},
   "outputs": [],
   "source": [
    "from aimped.services.api import AimpedAPI\n",
    "\n",
    "BASE_URL = 'https://aimped.ai'\n",
    "model_id = \"136\" # the Model ID can be found under \"API Information\" in the \"API Details\" tab on each model card."
   ]
  },
  {
   "cell_type": "markdown",
   "id": "6e62b0d8",
   "metadata": {},
   "source": [
    "### Initialize the API service:"
   ]
  },
  {
   "cell_type": "code",
   "execution_count": 16,
   "id": "a478ea85",
   "metadata": {},
   "outputs": [],
   "source": [
    "api_service = AimpedAPI(user_key, user_secret, {\"base_url\": BASE_URL})"
   ]
  },
  {
   "cell_type": "markdown",
   "id": "5e5ecbd4",
   "metadata": {},
   "source": [
    "### Define your payload:\n",
    "Define payload according to your input data type.\n",
    "\n",
    "Choose source and output language based on the model you are using."
   ]
  },
  {
   "cell_type": "markdown",
   "id": "d51ee39b",
   "metadata": {},
   "source": [
    "#### For Text Input"
   ]
  },
  {
   "cell_type": "code",
   "execution_count": 20,
   "id": "00a29471",
   "metadata": {},
   "outputs": [],
   "source": [
    "payload = {\n",
    "  \"data_type\": \"data_json\",\n",
    "  \"data_json\": {\n",
    "    \"text\": [\n",
    "      \"Any amendments to this agreement must be made in writing and signed by both parties to be considered valid and enforceable. Oral modifications or agreements shall not be recognized as binding by either party.\",\n",
    "      \"The parties agree that any disputes arising out of or in connection with this contract shall be settled through mediation before resorting to any legal action. Should mediation fail, the matter will be submitted to the jurisdiction of the appropriate courts.\"\n",
    "    ],\n",
    "    \"source_language\": \"en\", # Choose source_language based on your model's source language.\n",
    "    \"output_language\": \"tr\"  # Choose output_language based on your model's output language.\n",
    "  }\n",
    "}\n"
   ]
  },
  {
   "cell_type": "markdown",
   "id": "4fed1a64",
   "metadata": {},
   "source": [
    "#### For File Input"
   ]
  },
  {
   "cell_type": "code",
   "execution_count": 4,
   "id": "2b24d35d",
   "metadata": {},
   "outputs": [],
   "source": [
    "path_uri_obj = api_service.file_upload(\n",
    "    model_id,\n",
    "    '/Users/John/Downloads/sample.txt'  # sample file path to upload\n",
    "    )\n",
    "path_uri = path_uri_obj['url']\n",
    "\n",
    "payload = {\n",
    "  \"data_type\": \"data_txt\",\n",
    "  \"extra_fields\": {\n",
    "    \"source_language\": \"en\", # Choose source_language based on your model's source language.\n",
    "    \"output_language\": \"tr\"  # Choose output_language based on your model's output language.\n",
    "  },\n",
    "  \"data_txt\": [\n",
    "      path_uri # Path of your text file\n",
    "  ]\n",
    "}"
   ]
  },
  {
   "cell_type": "markdown",
   "id": "41479694",
   "metadata": {},
   "source": [
    "### Run the model:"
   ]
  },
  {
   "cell_type": "code",
   "execution_count": 21,
   "id": "4b770098",
   "metadata": {},
   "outputs": [],
   "source": [
    "result = api_service.run_model(model_id, payload)"
   ]
  },
  {
   "cell_type": "markdown",
   "id": "f6fb148b",
   "metadata": {},
   "source": [
    "If you're running this model for the first time or after a long time, you might see the following message:"
   ]
  },
  {
   "cell_type": "code",
   "execution_count": 19,
   "id": "1a0559cf",
   "metadata": {},
   "outputs": [
    {
     "name": "stdout",
     "output_type": "stream",
     "text": [
      "{'message': 'We will notify you via email when the instance is ready.'}\n"
     ]
    }
   ],
   "source": [
    "print(result)"
   ]
  },
  {
   "cell_type": "markdown",
   "id": "9f100748",
   "metadata": {},
   "source": [
    "Wait for the email notification indicating that the instance is ready. You will be notified on the [Aimped](https://aimped.ai/) as well.\n",
    "![Notification Page](images/notif_1.png)\n",
    "\n",
    "You will see this notification, once the instance is ready:\n",
    "![Notification Page2](images/legal_notif.png)"
   ]
  },
  {
   "cell_type": "markdown",
   "id": "d8de220f",
   "metadata": {},
   "source": [
    "Once you receive the email or notification on aimped, run the model again:"
   ]
  },
  {
   "cell_type": "code",
   "execution_count": 44,
   "id": "561a6ce0",
   "metadata": {},
   "outputs": [],
   "source": [
    "result = api_service.run_model(model_id, payload)"
   ]
  },
  {
   "cell_type": "code",
   "execution_count": 3,
   "id": "48d92afc",
   "metadata": {},
   "outputs": [
    {
     "data": {
      "text/plain": [
       "['Bu sözleşmede yapılacak herhangi bir değişikliğin geçerli ve uygulanabilir sayılması için yazılı olarak yapılması ve her iki tarafça da imzalanması gerekir. Sözlü değişiklikler veya anlaşmalar taraflardan herhangi biri tarafından bağlayıcı olarak kabul edilmeyecektir.',\n",
       " 'Taraflar, bu sözleşmeden kaynaklanan veya bu sözleşmeyle bağlantılı olarak ortaya çıkan tüm anlaşmazlıkların herhangi bir yasal işleme başvurulmadan önce arabuluculuk yoluyla çözüleceğini kabul eder. Arabuluculuğun başarısız olması halinde, konu uygun mahkemelerin yargı yetkisine sunulacaktır.']"
      ]
     },
     "execution_count": 3,
     "metadata": {},
     "output_type": "execute_result"
    }
   ],
   "source": [
    "result['output']['data_json']['result']['translated_text']"
   ]
  }
 ],
 "metadata": {
  "kernelspec": {
   "display_name": "Python 3 (ipykernel)",
   "language": "python",
   "name": "python3"
  },
  "language_info": {
   "codemirror_mode": {
    "name": "ipython",
    "version": 3
   },
   "file_extension": ".py",
   "mimetype": "text/x-python",
   "name": "python",
   "nbconvert_exporter": "python",
   "pygments_lexer": "ipython3",
   "version": "3.9.12"
  }
 },
 "nbformat": 4,
 "nbformat_minor": 5
}
