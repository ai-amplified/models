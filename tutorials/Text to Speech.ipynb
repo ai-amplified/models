{
 "cells": [
  {
   "cell_type": "markdown",
   "id": "7f0e4142",
   "metadata": {},
   "source": [
    "# API Tutorial - Text to Speech"
   ]
  },
  {
   "cell_type": "markdown",
   "id": "f2ee9af4",
   "metadata": {},
   "source": [
    "<a target=\"_blank\" href=\"https://colab.research.google.com/github/ai-amplified/models/blob/main/tutorials/Text%20to%20Speech.ipynb\">\n",
    "  <img src=\"https://colab.research.google.com/assets/colab-badge.svg\" alt=\"Open In Colab\"/>\n",
    "</a>"
   ]
  },
  {
   "cell_type": "markdown",
   "id": "91c2598e",
   "metadata": {},
   "source": [
    "## Short Description\n",
    "We have three models for Text to Speech based on:\n",
    "- **Autoregressive Diffusion (Premium Quality)**\n",
    "- **Style Diffusion with Adversarial Learning (High Quality)**\n",
    "- **Variational Inference with Adversarial Learning (Standard Quality)**\n",
    "\n",
    "### TTS in English, Autoregressive Diffusion (Premium Quality)\n",
    "This emotion-sensitive TTS model delivers highly accurate and expressive speech from input text, offering exceptional value at up to **10x cheaper** than top-tier competitors. Trained on Autoaregressive Diffusion, it blends autoregressive transformers and diffusion models to produce smooth, coherent speech. The model allows a dynamic tradeoff between speed and performance, supporting various applications with diverse US and UK male and female voices. \n",
    "\n",
    "### TTS in English, Style Diffusion with Adversarial Learning (High Quality)\n",
    "This model meets the rising demand for expressive, natural-sounding speech synthesis, which revolutionize audio generation through techniques like style diffusion and adversarial training. These techniques enhance the model's ability to produce authentic-sounding speech, appealing to discerning listeners. With a diverse range of US male and female voices, the model brings versatility and authenticity to TTS applications, making it ideal for immersive storytelling, personalized virtual assistants, and interactive gaming dialogues, setting a new standard for lifelike speech synthesis.\n",
    "\n",
    "### Variational Inference with Adversarial Learning (Standard Quality)\n",
    "This TTS model, up to **7x cheaper** than competitors, delivers exceptional value without compromising performance. Built on the VITS architecture, it offers ultra-fast inference and affordability, leveraging a conditional variational autoencoder with adversarial learning for simplified, high-performance TTS. Supporting multiple languages, this model is ideal for creating natural-sounding speech for diverse applications, enabling businesses and developers to captivate audiences and craft immersive experiences with ease and authenticity.\n",
    "\n",
    "\n",
    "## Tutorial\n",
    "This tutorial will guide you through using the Text to Speech API. By following the steps below, you'll be able to convert text to speech using the API. The main steps involved are:\n",
    "\n",
    "1. Creating an access token\n",
    "2. Installing the aimped library\n",
    "3. Running the API with your credentials and payload"
   ]
  },
  {
   "cell_type": "markdown",
   "id": "feacafef",
   "metadata": {},
   "source": [
    "## Step 1: Create Access Token"
   ]
  },
  {
   "cell_type": "markdown",
   "id": "925be06a",
   "metadata": {},
   "source": [
    "To use the API, you need an access token. Follow these steps to create one:\n",
    "\n",
    "1. Go to the [API Access Token Creation Page](https://aimped.ai/a3m/#/tokens). You will land here:\n",
    "![Token Creation Page](images/token_11.png)\n",
    "\n",
    "2. Select scopes and click on \"Create Token\".\n",
    "3. After clicking this button, you will see the pop-up from where you can copy the User Key and User Secret.\n",
    "\n",
    "![Token Creation Page2](images/token_22.png)\n",
    "\n",
    "3. Copy the generated access tokens and keep it safe. You'll need it for the next steps."
   ]
  },
  {
   "cell_type": "markdown",
   "id": "f7da9fe6",
   "metadata": {},
   "source": [
    "## Step 2: Install aimped Library\n",
    "To interact with the API, you need to install the aimped Python library. Open your terminal or command prompt and run the following command:"
   ]
  },
  {
   "cell_type": "code",
   "execution_count": 2,
   "id": "0570e728",
   "metadata": {},
   "outputs": [],
   "source": [
    "!pip install aimped==0.2.2"
   ]
  },
  {
   "cell_type": "markdown",
   "id": "1955fccb",
   "metadata": {},
   "source": [
    "This command will install the necessary library to communicate with the API."
   ]
  },
  {
   "cell_type": "markdown",
   "id": "613ef48e",
   "metadata": {},
   "source": [
    "## Step 3: Run the API\n",
    "Now that you have your access tokens and the library installed, you can run the API for Text to Speech. Follow these steps:"
   ]
  },
  {
   "cell_type": "markdown",
   "id": "971b24d9",
   "metadata": {},
   "source": [
    "### Set up your credentials:"
   ]
  },
  {
   "cell_type": "code",
   "execution_count": 3,
   "id": "18cbf102",
   "metadata": {},
   "outputs": [],
   "source": [
    "user_key = \"YOUR_USER_KEY\"\n",
    "user_secret = \"YOUR_USER_SECRET\""
   ]
  },
  {
   "cell_type": "markdown",
   "id": "48cfae5e",
   "metadata": {},
   "source": [
    "### Import the AimpedAPI class and set the base URL and model ID:\n",
    "For using different Models and Languages, you just need to change the **Model ID**. The Model ID can be found under \"API Information\" in the \"API Details\" tab on each model card."
   ]
  },
  {
   "cell_type": "code",
   "execution_count": 15,
   "id": "69f48705",
   "metadata": {},
   "outputs": [],
   "source": [
    "from aimped.services.api import AimpedAPI\n",
    "\n",
    "BASE_URL = 'https://aimped.ai'\n",
    "model_id = \"134\" # the Model ID can be found under \"API Information\" in the \"API Details\" tab on each model card."
   ]
  },
  {
   "cell_type": "markdown",
   "id": "6e62b0d8",
   "metadata": {},
   "source": [
    "### Initialize the API service:"
   ]
  },
  {
   "cell_type": "code",
   "execution_count": 16,
   "id": "a478ea85",
   "metadata": {},
   "outputs": [],
   "source": [
    "api_service = AimpedAPI(user_key, user_secret, {\"base_url\": BASE_URL})"
   ]
  },
  {
   "cell_type": "markdown",
   "id": "5e5ecbd4",
   "metadata": {},
   "source": [
    "### Define your payload:\n",
    "Define payload according to your input data type.\n",
    "\n",
    "### Model - Autoregressive Diffusion (Premium Quality)"
   ]
  },
  {
   "cell_type": "markdown",
   "id": "d51ee39b",
   "metadata": {},
   "source": [
    "#### For Text Input"
   ]
  },
  {
   "cell_type": "code",
   "execution_count": 20,
   "id": "00a29471",
   "metadata": {},
   "outputs": [],
   "source": [
    "payload = {\n",
    "  \"data_type\": \"data_json\",\n",
    "  \"extra_fields\": {\n",
    "      \"voice_id\": \"Ava (USA-Female)\", # Lucy (USA-Female), Chloe (USA-Female), Amelia (UK-Female), John (USA-Male), Paul (USA-Male), Jackson (UK-Male)\n",
    "      \"format\": \"wav\",     # mp3, flac, opus, ogg, aag, mulaw\n",
    "      \"temperature\": 0.86, # min: 0.01, max: 2\n",
    "      \"iterations\": 82,    # min: 5, max: 150\n",
    "  },\n",
    "  \"data_json\": {\n",
    "    \"text\": [\n",
    "      \"I am so relaxed and very happy to hear from you. It's amazing. I am so excited to give you this good news.\"\n",
    "    ]\n",
    "  }\n",
    "}\n"
   ]
  },
  {
   "cell_type": "markdown",
   "id": "4fed1a64",
   "metadata": {},
   "source": [
    "#### For File Input"
   ]
  },
  {
   "cell_type": "code",
   "execution_count": 4,
   "id": "2b24d35d",
   "metadata": {},
   "outputs": [],
   "source": [
    "path_uri_obj = api_service.file_upload(\n",
    "    model_id,\n",
    "    '/Users/John/Downloads/sample.txt'  # sample file path to upload\n",
    "    )\n",
    "path_uri = path_uri_obj['url']\n",
    "\n",
    "payload = {\n",
    "  \"data_type\": \"data_txt\",\n",
    "  \"extra_fields\": {\n",
    "      \"voice_id\": \"Ava (USA-Female)\", # Lucy (USA-Female), Chloe (USA-Female), Amelia (UK-Female), John (USA-Male), Paul (USA-Male), Jackson (UK-Male)\n",
    "      \"format\": \"wav\",     # mp3, flac, opus, ogg, aag, mulaw\n",
    "      \"temperature\": 0.86, # min: 0.01, max: 2\n",
    "      \"iterations\": 82,    # min: 5, max: 150\n",
    "  },\n",
    "  \"data_txt\": [\n",
    "      path_uri # Path of your text file\n",
    "  ]\n",
    "}"
   ]
  },
  {
   "cell_type": "markdown",
   "id": "18ba7734",
   "metadata": {},
   "source": [
    "### Model - Style Diffusion with Adversarial Learning (High Quality)"
   ]
  },
  {
   "cell_type": "markdown",
   "id": "6d15d490",
   "metadata": {},
   "source": [
    "#### For Text Input"
   ]
  },
  {
   "cell_type": "code",
   "execution_count": null,
   "id": "ab18ccce",
   "metadata": {},
   "outputs": [],
   "source": [
    "payload = {\n",
    "  \"data_type\": \"data_json\",\n",
    "  \"extra_fields\": {\n",
    "      \"voice_id\": \"Andre (USA-Male)\", # Finn (USA-Male), Jack (USA-Male), Emily (USA-Female), Ivy (USA-Female)\n",
    "      \"format\": \"wav\",      # mp3, flac, opus, ogg, aag, mulaw\n",
    "      \"timbre\": 0.7,        # min: 0.1, max: 1\n",
    "      \"prosody\": 0.9,       # min: 0.1, max: 1\n",
    "      \"diff_step\": 11,      # min: 5, max: 20 \n",
    "      \"emotion_scale\": 3.6, # min: 0, max: 5\n",
    "  },\n",
    "  \"data_json\": {\n",
    "    \"text\": [\n",
    "      \"I am so relaxed and very happy to hear from you. It's amazing. I am so excited to give you this good news.\"\n",
    "    ]\n",
    "  }\n",
    "}"
   ]
  },
  {
   "cell_type": "markdown",
   "id": "7c94d22c",
   "metadata": {},
   "source": [
    "#### For File Input"
   ]
  },
  {
   "cell_type": "code",
   "execution_count": null,
   "id": "2515f261",
   "metadata": {},
   "outputs": [],
   "source": [
    "path_uri_obj = api_service.file_upload(\n",
    "    model_id,\n",
    "    '/Users/John/Downloads/sample.txt'  # sample file path to upload\n",
    "    )\n",
    "path_uri = path_uri_obj['url']\n",
    "\n",
    "payload = {\n",
    "  \"data_type\": \"data_txt\",\n",
    "  \"extra_fields\": {\n",
    "      \"voice_id\": \"Andre (USA-Male)\", # Finn (USA-Male), Jack (USA-Male), Emily (USA-Female), Ivy (USA-Female)\n",
    "      \"format\": \"wav\",      # mp3, flac, opus, ogg, aag, mulaw\n",
    "      \"timbre\": 0.7,        # min: 0.1, max: 1\n",
    "      \"prosody\": 0.9,       # min: 0.1, max: 1\n",
    "      \"diff_step\": 11,      # min: 5, max: 20 \n",
    "      \"emotion_scale\": 3.6, # min: 0, max: 5\n",
    "  },\n",
    "  \"data_txt\": [\n",
    "      path_uri # Path of your text file\n",
    "  ]\n",
    "}"
   ]
  },
  {
   "cell_type": "markdown",
   "id": "b3ecae68",
   "metadata": {},
   "source": [
    "### Model - Variational Inference with Adversarial Learning (Standard Quality)\n",
    "The VITS model offers TTS in a wide range of languages. Make sure to choose the corresponding Model ID and Voice ID."
   ]
  },
  {
   "cell_type": "markdown",
   "id": "bde4d69d",
   "metadata": {},
   "source": [
    "#### For Text Input"
   ]
  },
  {
   "cell_type": "code",
   "execution_count": null,
   "id": "69a4ffe9",
   "metadata": {},
   "outputs": [],
   "source": [
    "payload = {\n",
    "  \"data_type\": \"data_json\",\n",
    "  \"extra_fields\": {\n",
    "      \"voice_id\": \"Benjamin (Male)\", # Elijah (Male), Daniel (Male), Evelyn (Female), Avery (Female)\n",
    "      \"format\": \"wav\", # mp3, flac, opus, ogg, aag, mulaw\n",
    "      \"speed\": 1,      # min: 0.1, max: 10\n",
    "  },\n",
    "  \"data_json\": {\n",
    "    \"text\": [\n",
    "      \"I am so relaxed and very happy to hear from you. It's amazing. I am so excited to give you this good news.\"\n",
    "    ]\n",
    "  }\n",
    "}"
   ]
  },
  {
   "cell_type": "markdown",
   "id": "95ea618e",
   "metadata": {},
   "source": [
    "#### For File Input"
   ]
  },
  {
   "cell_type": "code",
   "execution_count": null,
   "id": "14a00d92",
   "metadata": {},
   "outputs": [],
   "source": [
    "path_uri_obj = api_service.file_upload(\n",
    "    model_id,\n",
    "    '/Users/John/Downloads/sample.txt'  # sample file path to upload\n",
    "    )\n",
    "path_uri = path_uri_obj['url']\n",
    "\n",
    "payload = {\n",
    "  \"data_type\": \"data_txt\",\n",
    "  \"extra_fields\": {\n",
    "      \"voice_id\": \"Benjamin (Male)\", # Elijah (Male), Daniel (Male), Evelyn (Female), Avery (Female)\n",
    "      \"format\": \"wav\", # mp3, flac, opus, ogg, aag, mulaw\n",
    "      \"speed\": 1,      # min: 0.1, max: 10\n",
    "  },\n",
    "  \"data_txt\": [\n",
    "      path_uri # Path of your text file\n",
    "  ]\n",
    "}"
   ]
  },
  {
   "cell_type": "markdown",
   "id": "41479694",
   "metadata": {},
   "source": [
    "### Run the model:"
   ]
  },
  {
   "cell_type": "code",
   "execution_count": 21,
   "id": "4b770098",
   "metadata": {},
   "outputs": [],
   "source": [
    "result = api_service.run_model(model_id, payload)"
   ]
  },
  {
   "cell_type": "markdown",
   "id": "f6fb148b",
   "metadata": {},
   "source": [
    "If you're running this model for the first time or after a long time, you might see the following message:"
   ]
  },
  {
   "cell_type": "code",
   "execution_count": 19,
   "id": "1a0559cf",
   "metadata": {},
   "outputs": [
    {
     "name": "stdout",
     "output_type": "stream",
     "text": [
      "{'message': 'We will notify you via email when the instance is ready.'}\n"
     ]
    }
   ],
   "source": [
    "print(result)"
   ]
  },
  {
   "cell_type": "markdown",
   "id": "9f100748",
   "metadata": {},
   "source": [
    "Wait for the email notification indicating that the instance is ready. You will be notified on the [Aimped](https://aimped.ai/) as well.\n",
    "![Notification Page](images/notif_1.png)\n",
    "\n",
    "You will see this notification, once the instance is ready:\n",
    "![Notification Page2](images/tts_notif.png)"
   ]
  },
  {
   "cell_type": "markdown",
   "id": "d8de220f",
   "metadata": {},
   "source": [
    "Once you receive the email or notification on aimped, run the model again:"
   ]
  },
  {
   "cell_type": "code",
   "execution_count": 44,
   "id": "561a6ce0",
   "metadata": {},
   "outputs": [],
   "source": [
    "result = api_service.run_model(model_id, payload)"
   ]
  },
  {
   "cell_type": "code",
   "execution_count": 2,
   "id": "a73b41ac",
   "metadata": {},
   "outputs": [
    {
     "data": {
      "text/plain": [
       "{'status': True,\n",
       " 'used_credits': 0.38,\n",
       " 'data_type': ['data_audio'],\n",
       " 'output': {'data_audio': ['output/audio/model_554/user_3229/003ae05d_test.wav']}}"
      ]
     },
     "execution_count": 2,
     "metadata": {},
     "output_type": "execute_result"
    }
   ],
   "source": [
    "result"
   ]
  },
  {
   "cell_type": "code",
   "execution_count": null,
   "id": "48d92afc",
   "metadata": {},
   "outputs": [],
   "source": [
    "#Download and save audio file\n",
    "source_url = 'output/audio/model_554/user_3229/003ae05d_test.wav'\n",
    "target_path = '/Users/John/Downloads/audio.wav'\n",
    "api_service.file_download_and_save(source_urlce, target_path)"
   ]
  }
 ],
 "metadata": {
  "kernelspec": {
   "display_name": "Python 3 (ipykernel)",
   "language": "python",
   "name": "python3"
  },
  "language_info": {
   "codemirror_mode": {
    "name": "ipython",
    "version": 3
   },
   "file_extension": ".py",
   "mimetype": "text/x-python",
   "name": "python",
   "nbconvert_exporter": "python",
   "pygments_lexer": "ipython3",
   "version": "3.9.12"
  }
 },
 "nbformat": 4,
 "nbformat_minor": 5
}
