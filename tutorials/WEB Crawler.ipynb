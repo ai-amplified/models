{
  "cells": [
    {
      "cell_type": "markdown",
      "metadata": {
        "id": "DySvOjq0z4ZN"
      },
      "source": [
        "# Install Aimped Library"
      ]
    },
    {
      "cell_type": "markdown",
      "metadata": {},
      "source": [
        "<a target=\"_blank\" href=\"https://colab.research.google.com/github/ai-amplified/models/blob/main/tutorials/WEB%20Crawler.ipynb\">\n",
        "  <img src=\"https://colab.research.google.com/assets/colab-badge.svg\" alt=\"Open In Colab\"/>\n",
        "</a>"
      ]
    },
    {
      "cell_type": "code",
      "execution_count": null,
      "metadata": {
        "colab": {
          "base_uri": "https://localhost:8080/"
        },
        "id": "O88tRPMHwznA",
        "outputId": "9b3c69da-cdca-4cf9-dbe8-9d1c6dfb7689"
      },
      "outputs": [
        {
          "name": "stdout",
          "output_type": "stream",
          "text": [
            "\u001b[?25l   \u001b[90m━━━━━━━━━━━━━━━━━━━━━━━━━━━━━━━━━━━━━━━━\u001b[0m \u001b[32m0.0/56.8 kB\u001b[0m \u001b[31m?\u001b[0m eta \u001b[36m-:--:--\u001b[0m\r\u001b[2K   \u001b[90m━━━━━━━━━━━━━━━━━━━━━━━━━━━━━━━━━━━━━━━━\u001b[0m \u001b[32m56.8/56.8 kB\u001b[0m \u001b[31m1.5 MB/s\u001b[0m eta \u001b[36m0:00:00\u001b[0m\n",
            "\u001b[?25h\u001b[?25l   \u001b[90m━━━━━━━━━━━━━━━━━━━━━━━━━━━━━━━━━━━━━━━━\u001b[0m \u001b[32m0.0/139.2 kB\u001b[0m \u001b[31m?\u001b[0m eta \u001b[36m-:--:--\u001b[0m\r\u001b[2K   \u001b[90m━━━━━━━━━━━━━━━━━━━━━━━━━━━━━━━━━━━━━━━━\u001b[0m \u001b[32m139.2/139.2 kB\u001b[0m \u001b[31m6.5 MB/s\u001b[0m eta \u001b[36m0:00:00\u001b[0m\n",
            "\u001b[2K   \u001b[90m━━━━━━━━━━━━━━━━━━━━━━━━━━━━━━━━━━━━━━━━\u001b[0m \u001b[32m294.6/294.6 kB\u001b[0m \u001b[31m11.7 MB/s\u001b[0m eta \u001b[36m0:00:00\u001b[0m\n",
            "\u001b[2K   \u001b[90m━━━━━━━━━━━━━━━━━━━━━━━━━━━━━━━━━━━━━━━━\u001b[0m \u001b[32m12.5/12.5 MB\u001b[0m \u001b[31m59.8 MB/s\u001b[0m eta \u001b[36m0:00:00\u001b[0m\n",
            "\u001b[2K   \u001b[90m━━━━━━━━━━━━━━━━━━━━━━━━━━━━━━━━━━━━━━━━\u001b[0m \u001b[32m82.7/82.7 kB\u001b[0m \u001b[31m4.4 MB/s\u001b[0m eta \u001b[36m0:00:00\u001b[0m\n",
            "\u001b[?25h"
          ]
        }
      ],
      "source": [
        "!pip install -qqq aimped==0.2.51"
      ]
    },
    {
      "cell_type": "code",
      "execution_count": null,
      "metadata": {
        "colab": {
          "base_uri": "https://localhost:8080/",
          "height": 35
        },
        "id": "eSpLakqvZwwl",
        "outputId": "62372cd9-abe2-4c01-9d16-28ce382bfb36"
      },
      "outputs": [
        {
          "data": {
            "application/vnd.google.colaboratory.intrinsic+json": {
              "type": "string"
            },
            "text/plain": [
              "'0.2.51'"
            ]
          },
          "execution_count": 1,
          "metadata": {},
          "output_type": "execute_result"
        }
      ],
      "source": [
        "import aimped\n",
        "aimped.__version__"
      ]
    },
    {
      "cell_type": "code",
      "execution_count": null,
      "metadata": {
        "id": "mj4KdESjOauz"
      },
      "outputs": [],
      "source": [
        "def callback(event, message, time, data=None):\n",
        "    if event == 'start':\n",
        "        print(f'Start event at {time}: {message}')\n",
        "    elif event == 'proccess':\n",
        "        print(f'Progress event at {time}: {message}')\n",
        "    elif event == 'error':\n",
        "        print(f'Error event at {time}: {message}')\n",
        "    elif event == 'end':\n",
        "        print(f'End event at {time}: {message}. Data: {data}')\n",
        "    else:\n",
        "        print(f'End event at {time}: {message}. Data: {data}')"
      ]
    },
    {
      "cell_type": "markdown",
      "metadata": {
        "id": "UTVW-Bqkz8mh"
      },
      "source": [
        "# Aimped API Object"
      ]
    },
    {
      "cell_type": "code",
      "execution_count": null,
      "metadata": {
        "id": "wDX7FCcSxAeN"
      },
      "outputs": [],
      "source": [
        "from aimped.services.api import AimpedAPI\n",
        "\n",
        "# Replace these values with your actual credentials and options\n",
        "user_key = \"xxxxxxxxx\"\n",
        "user_secret = \"xxxxxxxxxxxxxxxx-xxxxxxxxxxxx\"\n",
        "options = {\n",
        "    'base_url': 'https://aimped.ai'\n",
        "}\n",
        "\n",
        "aimped_api = AimpedAPI(user_key, user_secret, options)\n"
      ]
    },
    {
      "cell_type": "markdown",
      "metadata": {
        "id": "YjxghV3l-8X9"
      },
      "source": [
        "# WEB Crawling"
      ]
    },
    {
      "cell_type": "code",
      "execution_count": 1,
      "metadata": {
        "id": "aL0CDgWErvrt"
      },
      "outputs": [],
      "source": [
        "model_id = 438\n",
        "payload = {\n",
        "    \"data_type\": \"data_json\",\n",
        "    \"data_json\": {\n",
        "        \"url\": [\n",
        "            \"https://xxxx.com\"\n",
        "        ],\n",
        "        \"crawl\": True,\n",
        "        \"max_pages\": 100, # optional\n",
        "        \"depth\": 3, # optional\n",
        "        \"rate_limit\": 0.5, # optional\n",
        "        \"proxies\": [\n",
        "            \"216.173.105.145:6002:username1:password1\",\n",
        "            \"64.137.124.84:6296:username2:password2\"\n",
        "        ], # optional\n",
        "\n",
        "        \"model_name\": \"nlp-web-scraper-base-multi\"\n",
        "    }\n",
        "}\n"
      ]
    },
    {
      "cell_type": "code",
      "execution_count": null,
      "metadata": {
        "colab": {
          "base_uri": "https://localhost:8080/"
        },
        "id": "OihxFiQNrWa0",
        "outputId": "0ad048bb-575f-478c-8da2-ede144d8170a"
      },
      "outputs": [
        {
          "name": "stdout",
          "output_type": "stream",
          "text": [
            "Start event at 2024-09-02 09:22:34: start model run\n"
          ]
        }
      ],
      "source": [
        "# test call back function\n",
        "result = aimped_api.run_model_callback(model_id, payload, callback)\n"
      ]
    },
    {
      "cell_type": "markdown",
      "metadata": {
        "id": "LlsVZSEBA4f6"
      },
      "source": [
        "# List of Single Pages"
      ]
    },
    {
      "cell_type": "code",
      "execution_count": 1,
      "metadata": {
        "id": "-_QZu7taChey"
      },
      "outputs": [],
      "source": [
        "model_id = 438\n",
        "payload = {\n",
        "    \"data_type\": \"data_json\",\n",
        "    \"data_json\": {\n",
        "        \"url\": [\n",
        "            \"https://xxxxxx.com\",\n",
        "            \"https://xxxxyyyy.com\",\n",
        "            \"https://xxyy.com\"  , # maximum 1000 urls\n",
        "        ],\n",
        "        \"crawl\": False,\n",
        "  \n",
        "\n",
        "        \"model_name\": \"nlp-web-scraper-base-multi\"\n",
        "    }\n",
        "}\n"
      ]
    },
    {
      "cell_type": "code",
      "execution_count": null,
      "metadata": {
        "id": "YN4OQbOeCkdy"
      },
      "outputs": [],
      "source": [
        "# test call back function\n",
        "result = aimped_api.run_model_callback(model_id, payload, callback)\n"
      ]
    }
  ],
  "metadata": {
    "colab": {
      "collapsed_sections": [
        "mSLMfl1i0HiS",
        "hfu-Rf4M0OVp"
      ],
      "provenance": []
    },
    "kernelspec": {
      "display_name": "Python 3",
      "name": "python3"
    },
    "language_info": {
      "codemirror_mode": {
        "name": "ipython",
        "version": 3
      },
      "file_extension": ".py",
      "mimetype": "text/x-python",
      "name": "python",
      "nbconvert_exporter": "python",
      "pygments_lexer": "ipython3",
      "version": "3.10.0"
    }
  },
  "nbformat": 4,
  "nbformat_minor": 0
}
